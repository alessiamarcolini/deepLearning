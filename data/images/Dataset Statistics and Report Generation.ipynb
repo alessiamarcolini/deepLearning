{
 "cells": [
  {
   "cell_type": "markdown",
   "metadata": {},
   "source": [
    "# Datasets Statistics and Image Labels"
   ]
  },
  {
   "cell_type": "code",
   "execution_count": 1,
   "metadata": {
    "collapsed": false
   },
   "outputs": [
    {
     "name": "stdout",
     "output_type": "stream",
     "text": [
      "Dataset Statistics and Report Generation.ipynb\r\n",
      "\u001b[34mImageNet-Fruits\u001b[m\u001b[m/\r\n",
      "\u001b[34mSOM\u001b[m\u001b[m/\r\n",
      "\u001b[34m__pycache__\u001b[m\u001b[m/\r\n",
      "collect_statistics_for_SOM.py\r\n",
      "fetch_images.py\r\n",
      "generate_metadata.py\r\n",
      "metadata_so1_so2_so3_so4_sos_som.csv\r\n",
      "metadata_so1_so2_so3_sos.csv\r\n",
      "metadata_so1_so2_so3_sos_som.csv\r\n",
      "training_weak_label_so1_so2_so3_som_sos.txt\r\n",
      "training_weak_label_so1_so2_so3_som_sos_all_groups.txt\r\n"
     ]
    }
   ],
   "source": [
    "ls"
   ]
  },
  {
   "cell_type": "code",
   "execution_count": 2,
   "metadata": {
    "collapsed": true
   },
   "outputs": [],
   "source": [
    "import pandas as pd"
   ]
  },
  {
   "cell_type": "code",
   "execution_count": 3,
   "metadata": {
    "collapsed": true
   },
   "outputs": [],
   "source": [
    "df = pd.read_csv('metadata_so1_so2_so3_so4_sos_som.csv', sep=',', header=0, na_values='NA')"
   ]
  },
  {
   "cell_type": "code",
   "execution_count": 4,
   "metadata": {
    "collapsed": false
   },
   "outputs": [
    {
     "data": {
      "text/html": [
       "<div>\n",
       "<table border=\"1\" class=\"dataframe\">\n",
       "  <thead>\n",
       "    <tr style=\"text-align: right;\">\n",
       "      <th></th>\n",
       "      <th>FILENAME</th>\n",
       "      <th>DATASET</th>\n",
       "      <th>CLASS</th>\n",
       "      <th>CAMERA</th>\n",
       "      <th>CONF</th>\n",
       "      <th>VARIETY</th>\n",
       "      <th>SOSQ</th>\n",
       "      <th>SOMQ</th>\n",
       "      <th>CAT</th>\n",
       "      <th>FILEPATH</th>\n",
       "    </tr>\n",
       "  </thead>\n",
       "  <tbody>\n",
       "    <tr>\n",
       "      <th>0</th>\n",
       "      <td>so1_L_e_b_001.jpg</td>\n",
       "      <td>so1</td>\n",
       "      <td>E</td>\n",
       "      <td>NaN</td>\n",
       "      <td>B</td>\n",
       "      <td>Lagorai</td>\n",
       "      <td>NaN</td>\n",
       "      <td>NaN</td>\n",
       "      <td>NaN</td>\n",
       "      <td>/home/webvalley/deepLearning/data/images/datas...</td>\n",
       "    </tr>\n",
       "    <tr>\n",
       "      <th>1</th>\n",
       "      <td>so1_L_e_b_002.jpg</td>\n",
       "      <td>so1</td>\n",
       "      <td>E</td>\n",
       "      <td>NaN</td>\n",
       "      <td>B</td>\n",
       "      <td>Lagorai</td>\n",
       "      <td>NaN</td>\n",
       "      <td>NaN</td>\n",
       "      <td>NaN</td>\n",
       "      <td>/home/webvalley/deepLearning/data/images/datas...</td>\n",
       "    </tr>\n",
       "    <tr>\n",
       "      <th>2</th>\n",
       "      <td>so1_V_e_b_001.jpg</td>\n",
       "      <td>so1</td>\n",
       "      <td>E</td>\n",
       "      <td>NaN</td>\n",
       "      <td>B</td>\n",
       "      <td>Vajolet</td>\n",
       "      <td>NaN</td>\n",
       "      <td>NaN</td>\n",
       "      <td>NaN</td>\n",
       "      <td>/home/webvalley/deepLearning/data/images/datas...</td>\n",
       "    </tr>\n",
       "    <tr>\n",
       "      <th>3</th>\n",
       "      <td>so1_V_e_b_002.jpg</td>\n",
       "      <td>so1</td>\n",
       "      <td>E</td>\n",
       "      <td>NaN</td>\n",
       "      <td>B</td>\n",
       "      <td>Vajolet</td>\n",
       "      <td>NaN</td>\n",
       "      <td>NaN</td>\n",
       "      <td>NaN</td>\n",
       "      <td>/home/webvalley/deepLearning/data/images/datas...</td>\n",
       "    </tr>\n",
       "    <tr>\n",
       "      <th>4</th>\n",
       "      <td>so1_V_e_b_003.jpg</td>\n",
       "      <td>so1</td>\n",
       "      <td>E</td>\n",
       "      <td>NaN</td>\n",
       "      <td>B</td>\n",
       "      <td>Vajolet</td>\n",
       "      <td>NaN</td>\n",
       "      <td>NaN</td>\n",
       "      <td>NaN</td>\n",
       "      <td>/home/webvalley/deepLearning/data/images/datas...</td>\n",
       "    </tr>\n",
       "    <tr>\n",
       "      <th>5</th>\n",
       "      <td>so1_V_e_b_004.jpg</td>\n",
       "      <td>so1</td>\n",
       "      <td>E</td>\n",
       "      <td>NaN</td>\n",
       "      <td>B</td>\n",
       "      <td>Vajolet</td>\n",
       "      <td>NaN</td>\n",
       "      <td>NaN</td>\n",
       "      <td>NaN</td>\n",
       "      <td>/home/webvalley/deepLearning/data/images/datas...</td>\n",
       "    </tr>\n",
       "    <tr>\n",
       "      <th>6</th>\n",
       "      <td>so1_V_e_b_005.jpg</td>\n",
       "      <td>so1</td>\n",
       "      <td>E</td>\n",
       "      <td>NaN</td>\n",
       "      <td>B</td>\n",
       "      <td>Vajolet</td>\n",
       "      <td>NaN</td>\n",
       "      <td>NaN</td>\n",
       "      <td>NaN</td>\n",
       "      <td>/home/webvalley/deepLearning/data/images/datas...</td>\n",
       "    </tr>\n",
       "    <tr>\n",
       "      <th>7</th>\n",
       "      <td>so1_L_g_b_001.jpg</td>\n",
       "      <td>so1</td>\n",
       "      <td>G</td>\n",
       "      <td>NaN</td>\n",
       "      <td>B</td>\n",
       "      <td>Lagorai</td>\n",
       "      <td>NaN</td>\n",
       "      <td>NaN</td>\n",
       "      <td>NaN</td>\n",
       "      <td>/home/webvalley/deepLearning/data/images/datas...</td>\n",
       "    </tr>\n",
       "    <tr>\n",
       "      <th>8</th>\n",
       "      <td>so1_L_g_b_002.jpg</td>\n",
       "      <td>so1</td>\n",
       "      <td>G</td>\n",
       "      <td>NaN</td>\n",
       "      <td>B</td>\n",
       "      <td>Lagorai</td>\n",
       "      <td>NaN</td>\n",
       "      <td>NaN</td>\n",
       "      <td>NaN</td>\n",
       "      <td>/home/webvalley/deepLearning/data/images/datas...</td>\n",
       "    </tr>\n",
       "    <tr>\n",
       "      <th>9</th>\n",
       "      <td>so1_L_g_b_003.jpg</td>\n",
       "      <td>so1</td>\n",
       "      <td>G</td>\n",
       "      <td>NaN</td>\n",
       "      <td>B</td>\n",
       "      <td>Lagorai</td>\n",
       "      <td>NaN</td>\n",
       "      <td>NaN</td>\n",
       "      <td>NaN</td>\n",
       "      <td>/home/webvalley/deepLearning/data/images/datas...</td>\n",
       "    </tr>\n",
       "    <tr>\n",
       "      <th>10</th>\n",
       "      <td>so1_L_g_b_004.jpg</td>\n",
       "      <td>so1</td>\n",
       "      <td>G</td>\n",
       "      <td>NaN</td>\n",
       "      <td>B</td>\n",
       "      <td>Lagorai</td>\n",
       "      <td>NaN</td>\n",
       "      <td>NaN</td>\n",
       "      <td>NaN</td>\n",
       "      <td>/home/webvalley/deepLearning/data/images/datas...</td>\n",
       "    </tr>\n",
       "    <tr>\n",
       "      <th>11</th>\n",
       "      <td>so1_L_g_b_005.jpg</td>\n",
       "      <td>so1</td>\n",
       "      <td>G</td>\n",
       "      <td>NaN</td>\n",
       "      <td>B</td>\n",
       "      <td>Lagorai</td>\n",
       "      <td>NaN</td>\n",
       "      <td>NaN</td>\n",
       "      <td>NaN</td>\n",
       "      <td>/home/webvalley/deepLearning/data/images/datas...</td>\n",
       "    </tr>\n",
       "    <tr>\n",
       "      <th>12</th>\n",
       "      <td>so1_L_g_b_006.jpg</td>\n",
       "      <td>so1</td>\n",
       "      <td>G</td>\n",
       "      <td>NaN</td>\n",
       "      <td>B</td>\n",
       "      <td>Lagorai</td>\n",
       "      <td>NaN</td>\n",
       "      <td>NaN</td>\n",
       "      <td>NaN</td>\n",
       "      <td>/home/webvalley/deepLearning/data/images/datas...</td>\n",
       "    </tr>\n",
       "    <tr>\n",
       "      <th>13</th>\n",
       "      <td>so1_L_g_b_007.jpg</td>\n",
       "      <td>so1</td>\n",
       "      <td>G</td>\n",
       "      <td>NaN</td>\n",
       "      <td>B</td>\n",
       "      <td>Lagorai</td>\n",
       "      <td>NaN</td>\n",
       "      <td>NaN</td>\n",
       "      <td>NaN</td>\n",
       "      <td>/home/webvalley/deepLearning/data/images/datas...</td>\n",
       "    </tr>\n",
       "    <tr>\n",
       "      <th>14</th>\n",
       "      <td>so1_L_g_b_008.jpg</td>\n",
       "      <td>so1</td>\n",
       "      <td>G</td>\n",
       "      <td>NaN</td>\n",
       "      <td>B</td>\n",
       "      <td>Lagorai</td>\n",
       "      <td>NaN</td>\n",
       "      <td>NaN</td>\n",
       "      <td>NaN</td>\n",
       "      <td>/home/webvalley/deepLearning/data/images/datas...</td>\n",
       "    </tr>\n",
       "    <tr>\n",
       "      <th>15</th>\n",
       "      <td>so1_L_g_b_009.jpg</td>\n",
       "      <td>so1</td>\n",
       "      <td>G</td>\n",
       "      <td>NaN</td>\n",
       "      <td>B</td>\n",
       "      <td>Lagorai</td>\n",
       "      <td>NaN</td>\n",
       "      <td>NaN</td>\n",
       "      <td>NaN</td>\n",
       "      <td>/home/webvalley/deepLearning/data/images/datas...</td>\n",
       "    </tr>\n",
       "    <tr>\n",
       "      <th>16</th>\n",
       "      <td>so1_L_g_b_010.jpg</td>\n",
       "      <td>so1</td>\n",
       "      <td>G</td>\n",
       "      <td>NaN</td>\n",
       "      <td>B</td>\n",
       "      <td>Lagorai</td>\n",
       "      <td>NaN</td>\n",
       "      <td>NaN</td>\n",
       "      <td>NaN</td>\n",
       "      <td>/home/webvalley/deepLearning/data/images/datas...</td>\n",
       "    </tr>\n",
       "    <tr>\n",
       "      <th>17</th>\n",
       "      <td>so1_L_g_b_011.jpg</td>\n",
       "      <td>so1</td>\n",
       "      <td>G</td>\n",
       "      <td>NaN</td>\n",
       "      <td>B</td>\n",
       "      <td>Lagorai</td>\n",
       "      <td>NaN</td>\n",
       "      <td>NaN</td>\n",
       "      <td>NaN</td>\n",
       "      <td>/home/webvalley/deepLearning/data/images/datas...</td>\n",
       "    </tr>\n",
       "    <tr>\n",
       "      <th>18</th>\n",
       "      <td>so1_L_g_gb_001.jpg</td>\n",
       "      <td>so1</td>\n",
       "      <td>G</td>\n",
       "      <td>NaN</td>\n",
       "      <td>GB</td>\n",
       "      <td>Lagorai</td>\n",
       "      <td>NaN</td>\n",
       "      <td>NaN</td>\n",
       "      <td>NaN</td>\n",
       "      <td>/home/webvalley/deepLearning/data/images/datas...</td>\n",
       "    </tr>\n",
       "    <tr>\n",
       "      <th>19</th>\n",
       "      <td>so1_L_g_gb_002.jpg</td>\n",
       "      <td>so1</td>\n",
       "      <td>G</td>\n",
       "      <td>NaN</td>\n",
       "      <td>GB</td>\n",
       "      <td>Lagorai</td>\n",
       "      <td>NaN</td>\n",
       "      <td>NaN</td>\n",
       "      <td>NaN</td>\n",
       "      <td>/home/webvalley/deepLearning/data/images/datas...</td>\n",
       "    </tr>\n",
       "    <tr>\n",
       "      <th>20</th>\n",
       "      <td>so1_V_g_b_001.jpg</td>\n",
       "      <td>so1</td>\n",
       "      <td>G</td>\n",
       "      <td>NaN</td>\n",
       "      <td>B</td>\n",
       "      <td>Vajolet</td>\n",
       "      <td>NaN</td>\n",
       "      <td>NaN</td>\n",
       "      <td>NaN</td>\n",
       "      <td>/home/webvalley/deepLearning/data/images/datas...</td>\n",
       "    </tr>\n",
       "    <tr>\n",
       "      <th>21</th>\n",
       "      <td>so1_V_g_b_002.jpg</td>\n",
       "      <td>so1</td>\n",
       "      <td>G</td>\n",
       "      <td>NaN</td>\n",
       "      <td>B</td>\n",
       "      <td>Vajolet</td>\n",
       "      <td>NaN</td>\n",
       "      <td>NaN</td>\n",
       "      <td>NaN</td>\n",
       "      <td>/home/webvalley/deepLearning/data/images/datas...</td>\n",
       "    </tr>\n",
       "    <tr>\n",
       "      <th>22</th>\n",
       "      <td>so1_V_g_b_003.jpg</td>\n",
       "      <td>so1</td>\n",
       "      <td>G</td>\n",
       "      <td>NaN</td>\n",
       "      <td>B</td>\n",
       "      <td>Vajolet</td>\n",
       "      <td>NaN</td>\n",
       "      <td>NaN</td>\n",
       "      <td>NaN</td>\n",
       "      <td>/home/webvalley/deepLearning/data/images/datas...</td>\n",
       "    </tr>\n",
       "    <tr>\n",
       "      <th>23</th>\n",
       "      <td>so1_V_g_b_004.jpg</td>\n",
       "      <td>so1</td>\n",
       "      <td>G</td>\n",
       "      <td>NaN</td>\n",
       "      <td>B</td>\n",
       "      <td>Vajolet</td>\n",
       "      <td>NaN</td>\n",
       "      <td>NaN</td>\n",
       "      <td>NaN</td>\n",
       "      <td>/home/webvalley/deepLearning/data/images/datas...</td>\n",
       "    </tr>\n",
       "    <tr>\n",
       "      <th>24</th>\n",
       "      <td>so1_V_g_b_005.jpg</td>\n",
       "      <td>so1</td>\n",
       "      <td>G</td>\n",
       "      <td>NaN</td>\n",
       "      <td>B</td>\n",
       "      <td>Vajolet</td>\n",
       "      <td>NaN</td>\n",
       "      <td>NaN</td>\n",
       "      <td>NaN</td>\n",
       "      <td>/home/webvalley/deepLearning/data/images/datas...</td>\n",
       "    </tr>\n",
       "    <tr>\n",
       "      <th>25</th>\n",
       "      <td>so1_V_g_b_006.jpg</td>\n",
       "      <td>so1</td>\n",
       "      <td>G</td>\n",
       "      <td>NaN</td>\n",
       "      <td>B</td>\n",
       "      <td>Vajolet</td>\n",
       "      <td>NaN</td>\n",
       "      <td>NaN</td>\n",
       "      <td>NaN</td>\n",
       "      <td>/home/webvalley/deepLearning/data/images/datas...</td>\n",
       "    </tr>\n",
       "    <tr>\n",
       "      <th>26</th>\n",
       "      <td>so1_V_g_b_007.jpg</td>\n",
       "      <td>so1</td>\n",
       "      <td>G</td>\n",
       "      <td>NaN</td>\n",
       "      <td>B</td>\n",
       "      <td>Vajolet</td>\n",
       "      <td>NaN</td>\n",
       "      <td>NaN</td>\n",
       "      <td>NaN</td>\n",
       "      <td>/home/webvalley/deepLearning/data/images/datas...</td>\n",
       "    </tr>\n",
       "    <tr>\n",
       "      <th>27</th>\n",
       "      <td>so1_V_g_b_008.jpg</td>\n",
       "      <td>so1</td>\n",
       "      <td>G</td>\n",
       "      <td>NaN</td>\n",
       "      <td>B</td>\n",
       "      <td>Vajolet</td>\n",
       "      <td>NaN</td>\n",
       "      <td>NaN</td>\n",
       "      <td>NaN</td>\n",
       "      <td>/home/webvalley/deepLearning/data/images/datas...</td>\n",
       "    </tr>\n",
       "    <tr>\n",
       "      <th>28</th>\n",
       "      <td>so1_V_g_gb_001.jpg</td>\n",
       "      <td>so1</td>\n",
       "      <td>G</td>\n",
       "      <td>NaN</td>\n",
       "      <td>GB</td>\n",
       "      <td>Vajolet</td>\n",
       "      <td>NaN</td>\n",
       "      <td>NaN</td>\n",
       "      <td>NaN</td>\n",
       "      <td>/home/webvalley/deepLearning/data/images/datas...</td>\n",
       "    </tr>\n",
       "    <tr>\n",
       "      <th>29</th>\n",
       "      <td>so1_V_g_gb_002.jpg</td>\n",
       "      <td>so1</td>\n",
       "      <td>G</td>\n",
       "      <td>NaN</td>\n",
       "      <td>GB</td>\n",
       "      <td>Vajolet</td>\n",
       "      <td>NaN</td>\n",
       "      <td>NaN</td>\n",
       "      <td>NaN</td>\n",
       "      <td>/home/webvalley/deepLearning/data/images/datas...</td>\n",
       "    </tr>\n",
       "    <tr>\n",
       "      <th>...</th>\n",
       "      <td>...</td>\n",
       "      <td>...</td>\n",
       "      <td>...</td>\n",
       "      <td>...</td>\n",
       "      <td>...</td>\n",
       "      <td>...</td>\n",
       "      <td>...</td>\n",
       "      <td>...</td>\n",
       "      <td>...</td>\n",
       "      <td>...</td>\n",
       "    </tr>\n",
       "    <tr>\n",
       "      <th>70</th>\n",
       "      <td>so2_L_t_e_s_016.jpg</td>\n",
       "      <td>so2</td>\n",
       "      <td>E</td>\n",
       "      <td>Fr</td>\n",
       "      <td>S</td>\n",
       "      <td>Lagorai</td>\n",
       "      <td>NaN</td>\n",
       "      <td>NaN</td>\n",
       "      <td>NaN</td>\n",
       "      <td>/home/webvalley/deepLearning/data/images/datas...</td>\n",
       "    </tr>\n",
       "    <tr>\n",
       "      <th>71</th>\n",
       "      <td>so2_L_t_e_s_017.jpg</td>\n",
       "      <td>so2</td>\n",
       "      <td>E</td>\n",
       "      <td>Fr</td>\n",
       "      <td>S</td>\n",
       "      <td>Lagorai</td>\n",
       "      <td>NaN</td>\n",
       "      <td>NaN</td>\n",
       "      <td>NaN</td>\n",
       "      <td>/home/webvalley/deepLearning/data/images/datas...</td>\n",
       "    </tr>\n",
       "    <tr>\n",
       "      <th>72</th>\n",
       "      <td>so2_L_t_e_s_018.jpg</td>\n",
       "      <td>so2</td>\n",
       "      <td>E</td>\n",
       "      <td>Fr</td>\n",
       "      <td>S</td>\n",
       "      <td>Lagorai</td>\n",
       "      <td>NaN</td>\n",
       "      <td>NaN</td>\n",
       "      <td>NaN</td>\n",
       "      <td>/home/webvalley/deepLearning/data/images/datas...</td>\n",
       "    </tr>\n",
       "    <tr>\n",
       "      <th>73</th>\n",
       "      <td>so2_L_t_e_s_019.jpg</td>\n",
       "      <td>so2</td>\n",
       "      <td>E</td>\n",
       "      <td>Fr</td>\n",
       "      <td>S</td>\n",
       "      <td>Lagorai</td>\n",
       "      <td>NaN</td>\n",
       "      <td>NaN</td>\n",
       "      <td>NaN</td>\n",
       "      <td>/home/webvalley/deepLearning/data/images/datas...</td>\n",
       "    </tr>\n",
       "    <tr>\n",
       "      <th>74</th>\n",
       "      <td>so2_L_t_e_s_020.jpg</td>\n",
       "      <td>so2</td>\n",
       "      <td>E</td>\n",
       "      <td>Fr</td>\n",
       "      <td>S</td>\n",
       "      <td>Lagorai</td>\n",
       "      <td>NaN</td>\n",
       "      <td>NaN</td>\n",
       "      <td>NaN</td>\n",
       "      <td>/home/webvalley/deepLearning/data/images/datas...</td>\n",
       "    </tr>\n",
       "    <tr>\n",
       "      <th>75</th>\n",
       "      <td>so2_L_t_e_s_021.jpg</td>\n",
       "      <td>so2</td>\n",
       "      <td>E</td>\n",
       "      <td>Fr</td>\n",
       "      <td>S</td>\n",
       "      <td>Lagorai</td>\n",
       "      <td>NaN</td>\n",
       "      <td>NaN</td>\n",
       "      <td>NaN</td>\n",
       "      <td>/home/webvalley/deepLearning/data/images/datas...</td>\n",
       "    </tr>\n",
       "    <tr>\n",
       "      <th>76</th>\n",
       "      <td>so2_L_t_e_s_022.jpg</td>\n",
       "      <td>so2</td>\n",
       "      <td>E</td>\n",
       "      <td>Fr</td>\n",
       "      <td>S</td>\n",
       "      <td>Lagorai</td>\n",
       "      <td>NaN</td>\n",
       "      <td>NaN</td>\n",
       "      <td>NaN</td>\n",
       "      <td>/home/webvalley/deepLearning/data/images/datas...</td>\n",
       "    </tr>\n",
       "    <tr>\n",
       "      <th>77</th>\n",
       "      <td>so2_L_t_e_s_023.jpg</td>\n",
       "      <td>so2</td>\n",
       "      <td>E</td>\n",
       "      <td>Fr</td>\n",
       "      <td>S</td>\n",
       "      <td>Lagorai</td>\n",
       "      <td>NaN</td>\n",
       "      <td>NaN</td>\n",
       "      <td>NaN</td>\n",
       "      <td>/home/webvalley/deepLearning/data/images/datas...</td>\n",
       "    </tr>\n",
       "    <tr>\n",
       "      <th>78</th>\n",
       "      <td>so2_L_t_e_s_024.jpg</td>\n",
       "      <td>so2</td>\n",
       "      <td>E</td>\n",
       "      <td>Fr</td>\n",
       "      <td>S</td>\n",
       "      <td>Lagorai</td>\n",
       "      <td>NaN</td>\n",
       "      <td>NaN</td>\n",
       "      <td>NaN</td>\n",
       "      <td>/home/webvalley/deepLearning/data/images/datas...</td>\n",
       "    </tr>\n",
       "    <tr>\n",
       "      <th>79</th>\n",
       "      <td>so2_L_t_e_s_025.jpg</td>\n",
       "      <td>so2</td>\n",
       "      <td>E</td>\n",
       "      <td>Fr</td>\n",
       "      <td>S</td>\n",
       "      <td>Lagorai</td>\n",
       "      <td>NaN</td>\n",
       "      <td>NaN</td>\n",
       "      <td>NaN</td>\n",
       "      <td>/home/webvalley/deepLearning/data/images/datas...</td>\n",
       "    </tr>\n",
       "    <tr>\n",
       "      <th>80</th>\n",
       "      <td>so2_L_t_e_s_026.jpg</td>\n",
       "      <td>so2</td>\n",
       "      <td>E</td>\n",
       "      <td>Fr</td>\n",
       "      <td>S</td>\n",
       "      <td>Lagorai</td>\n",
       "      <td>NaN</td>\n",
       "      <td>NaN</td>\n",
       "      <td>NaN</td>\n",
       "      <td>/home/webvalley/deepLearning/data/images/datas...</td>\n",
       "    </tr>\n",
       "    <tr>\n",
       "      <th>81</th>\n",
       "      <td>so2_L_t_e_s_027.jpg</td>\n",
       "      <td>so2</td>\n",
       "      <td>E</td>\n",
       "      <td>Fr</td>\n",
       "      <td>S</td>\n",
       "      <td>Lagorai</td>\n",
       "      <td>NaN</td>\n",
       "      <td>NaN</td>\n",
       "      <td>NaN</td>\n",
       "      <td>/home/webvalley/deepLearning/data/images/datas...</td>\n",
       "    </tr>\n",
       "    <tr>\n",
       "      <th>82</th>\n",
       "      <td>so2_L_t_e_s_028.jpg</td>\n",
       "      <td>so2</td>\n",
       "      <td>E</td>\n",
       "      <td>Fr</td>\n",
       "      <td>S</td>\n",
       "      <td>Lagorai</td>\n",
       "      <td>NaN</td>\n",
       "      <td>NaN</td>\n",
       "      <td>NaN</td>\n",
       "      <td>/home/webvalley/deepLearning/data/images/datas...</td>\n",
       "    </tr>\n",
       "    <tr>\n",
       "      <th>83</th>\n",
       "      <td>so2_L_t_e_s_029.jpg</td>\n",
       "      <td>so2</td>\n",
       "      <td>E</td>\n",
       "      <td>Fr</td>\n",
       "      <td>S</td>\n",
       "      <td>Lagorai</td>\n",
       "      <td>NaN</td>\n",
       "      <td>NaN</td>\n",
       "      <td>NaN</td>\n",
       "      <td>/home/webvalley/deepLearning/data/images/datas...</td>\n",
       "    </tr>\n",
       "    <tr>\n",
       "      <th>84</th>\n",
       "      <td>so2_L_t_e_s_030.jpg</td>\n",
       "      <td>so2</td>\n",
       "      <td>E</td>\n",
       "      <td>Fr</td>\n",
       "      <td>S</td>\n",
       "      <td>Lagorai</td>\n",
       "      <td>NaN</td>\n",
       "      <td>NaN</td>\n",
       "      <td>NaN</td>\n",
       "      <td>/home/webvalley/deepLearning/data/images/datas...</td>\n",
       "    </tr>\n",
       "    <tr>\n",
       "      <th>85</th>\n",
       "      <td>so2_L_t_e_s_031.jpg</td>\n",
       "      <td>so2</td>\n",
       "      <td>E</td>\n",
       "      <td>Fr</td>\n",
       "      <td>S</td>\n",
       "      <td>Lagorai</td>\n",
       "      <td>NaN</td>\n",
       "      <td>NaN</td>\n",
       "      <td>NaN</td>\n",
       "      <td>/home/webvalley/deepLearning/data/images/datas...</td>\n",
       "    </tr>\n",
       "    <tr>\n",
       "      <th>86</th>\n",
       "      <td>so2_L_t_e_s_032.jpg</td>\n",
       "      <td>so2</td>\n",
       "      <td>E</td>\n",
       "      <td>Fr</td>\n",
       "      <td>S</td>\n",
       "      <td>Lagorai</td>\n",
       "      <td>NaN</td>\n",
       "      <td>NaN</td>\n",
       "      <td>NaN</td>\n",
       "      <td>/home/webvalley/deepLearning/data/images/datas...</td>\n",
       "    </tr>\n",
       "    <tr>\n",
       "      <th>87</th>\n",
       "      <td>so2_L_t_e_s_033.jpg</td>\n",
       "      <td>so2</td>\n",
       "      <td>E</td>\n",
       "      <td>Fr</td>\n",
       "      <td>S</td>\n",
       "      <td>Lagorai</td>\n",
       "      <td>NaN</td>\n",
       "      <td>NaN</td>\n",
       "      <td>NaN</td>\n",
       "      <td>/home/webvalley/deepLearning/data/images/datas...</td>\n",
       "    </tr>\n",
       "    <tr>\n",
       "      <th>88</th>\n",
       "      <td>so2_L_t_e_s_034.jpg</td>\n",
       "      <td>so2</td>\n",
       "      <td>E</td>\n",
       "      <td>Fr</td>\n",
       "      <td>S</td>\n",
       "      <td>Lagorai</td>\n",
       "      <td>NaN</td>\n",
       "      <td>NaN</td>\n",
       "      <td>NaN</td>\n",
       "      <td>/home/webvalley/deepLearning/data/images/datas...</td>\n",
       "    </tr>\n",
       "    <tr>\n",
       "      <th>89</th>\n",
       "      <td>so2_L_t_e_s_035.jpg</td>\n",
       "      <td>so2</td>\n",
       "      <td>E</td>\n",
       "      <td>Fr</td>\n",
       "      <td>S</td>\n",
       "      <td>Lagorai</td>\n",
       "      <td>NaN</td>\n",
       "      <td>NaN</td>\n",
       "      <td>NaN</td>\n",
       "      <td>/home/webvalley/deepLearning/data/images/datas...</td>\n",
       "    </tr>\n",
       "    <tr>\n",
       "      <th>90</th>\n",
       "      <td>so2_L_t_e_s_036.jpg</td>\n",
       "      <td>so2</td>\n",
       "      <td>E</td>\n",
       "      <td>Fr</td>\n",
       "      <td>S</td>\n",
       "      <td>Lagorai</td>\n",
       "      <td>NaN</td>\n",
       "      <td>NaN</td>\n",
       "      <td>NaN</td>\n",
       "      <td>/home/webvalley/deepLearning/data/images/datas...</td>\n",
       "    </tr>\n",
       "    <tr>\n",
       "      <th>91</th>\n",
       "      <td>so2_L_t_e_s_037.jpg</td>\n",
       "      <td>so2</td>\n",
       "      <td>E</td>\n",
       "      <td>Fr</td>\n",
       "      <td>S</td>\n",
       "      <td>Lagorai</td>\n",
       "      <td>NaN</td>\n",
       "      <td>NaN</td>\n",
       "      <td>NaN</td>\n",
       "      <td>/home/webvalley/deepLearning/data/images/datas...</td>\n",
       "    </tr>\n",
       "    <tr>\n",
       "      <th>92</th>\n",
       "      <td>so2_L_t_e_s_038.jpg</td>\n",
       "      <td>so2</td>\n",
       "      <td>E</td>\n",
       "      <td>Fr</td>\n",
       "      <td>S</td>\n",
       "      <td>Lagorai</td>\n",
       "      <td>NaN</td>\n",
       "      <td>NaN</td>\n",
       "      <td>NaN</td>\n",
       "      <td>/home/webvalley/deepLearning/data/images/datas...</td>\n",
       "    </tr>\n",
       "    <tr>\n",
       "      <th>93</th>\n",
       "      <td>so2_L_t_e_s_039.jpg</td>\n",
       "      <td>so2</td>\n",
       "      <td>E</td>\n",
       "      <td>Fr</td>\n",
       "      <td>S</td>\n",
       "      <td>Lagorai</td>\n",
       "      <td>NaN</td>\n",
       "      <td>NaN</td>\n",
       "      <td>NaN</td>\n",
       "      <td>/home/webvalley/deepLearning/data/images/datas...</td>\n",
       "    </tr>\n",
       "    <tr>\n",
       "      <th>94</th>\n",
       "      <td>so2_L_t_e_s_040.jpg</td>\n",
       "      <td>so2</td>\n",
       "      <td>E</td>\n",
       "      <td>Fr</td>\n",
       "      <td>S</td>\n",
       "      <td>Lagorai</td>\n",
       "      <td>NaN</td>\n",
       "      <td>NaN</td>\n",
       "      <td>NaN</td>\n",
       "      <td>/home/webvalley/deepLearning/data/images/datas...</td>\n",
       "    </tr>\n",
       "    <tr>\n",
       "      <th>95</th>\n",
       "      <td>so2_L_t_e_s_041.jpg</td>\n",
       "      <td>so2</td>\n",
       "      <td>E</td>\n",
       "      <td>Fr</td>\n",
       "      <td>S</td>\n",
       "      <td>Lagorai</td>\n",
       "      <td>NaN</td>\n",
       "      <td>NaN</td>\n",
       "      <td>NaN</td>\n",
       "      <td>/home/webvalley/deepLearning/data/images/datas...</td>\n",
       "    </tr>\n",
       "    <tr>\n",
       "      <th>96</th>\n",
       "      <td>so2_L_t_e_s_042.jpg</td>\n",
       "      <td>so2</td>\n",
       "      <td>E</td>\n",
       "      <td>Fr</td>\n",
       "      <td>S</td>\n",
       "      <td>Lagorai</td>\n",
       "      <td>NaN</td>\n",
       "      <td>NaN</td>\n",
       "      <td>NaN</td>\n",
       "      <td>/home/webvalley/deepLearning/data/images/datas...</td>\n",
       "    </tr>\n",
       "    <tr>\n",
       "      <th>97</th>\n",
       "      <td>so2_L_t_e_s_043.jpg</td>\n",
       "      <td>so2</td>\n",
       "      <td>E</td>\n",
       "      <td>Fr</td>\n",
       "      <td>S</td>\n",
       "      <td>Lagorai</td>\n",
       "      <td>NaN</td>\n",
       "      <td>NaN</td>\n",
       "      <td>NaN</td>\n",
       "      <td>/home/webvalley/deepLearning/data/images/datas...</td>\n",
       "    </tr>\n",
       "    <tr>\n",
       "      <th>98</th>\n",
       "      <td>so2_L_t_e_s_044.jpg</td>\n",
       "      <td>so2</td>\n",
       "      <td>E</td>\n",
       "      <td>Fr</td>\n",
       "      <td>S</td>\n",
       "      <td>Lagorai</td>\n",
       "      <td>NaN</td>\n",
       "      <td>NaN</td>\n",
       "      <td>NaN</td>\n",
       "      <td>/home/webvalley/deepLearning/data/images/datas...</td>\n",
       "    </tr>\n",
       "    <tr>\n",
       "      <th>99</th>\n",
       "      <td>so2_L_t_e_s_045.jpg</td>\n",
       "      <td>so2</td>\n",
       "      <td>E</td>\n",
       "      <td>Fr</td>\n",
       "      <td>S</td>\n",
       "      <td>Lagorai</td>\n",
       "      <td>NaN</td>\n",
       "      <td>NaN</td>\n",
       "      <td>NaN</td>\n",
       "      <td>/home/webvalley/deepLearning/data/images/datas...</td>\n",
       "    </tr>\n",
       "  </tbody>\n",
       "</table>\n",
       "<p>100 rows × 10 columns</p>\n",
       "</div>"
      ],
      "text/plain": [
       "               FILENAME DATASET CLASS CAMERA CONF  VARIETY SOSQ SOMQ  CAT  \\\n",
       "0     so1_L_e_b_001.jpg     so1     E    NaN    B  Lagorai  NaN  NaN  NaN   \n",
       "1     so1_L_e_b_002.jpg     so1     E    NaN    B  Lagorai  NaN  NaN  NaN   \n",
       "2     so1_V_e_b_001.jpg     so1     E    NaN    B  Vajolet  NaN  NaN  NaN   \n",
       "3     so1_V_e_b_002.jpg     so1     E    NaN    B  Vajolet  NaN  NaN  NaN   \n",
       "4     so1_V_e_b_003.jpg     so1     E    NaN    B  Vajolet  NaN  NaN  NaN   \n",
       "5     so1_V_e_b_004.jpg     so1     E    NaN    B  Vajolet  NaN  NaN  NaN   \n",
       "6     so1_V_e_b_005.jpg     so1     E    NaN    B  Vajolet  NaN  NaN  NaN   \n",
       "7     so1_L_g_b_001.jpg     so1     G    NaN    B  Lagorai  NaN  NaN  NaN   \n",
       "8     so1_L_g_b_002.jpg     so1     G    NaN    B  Lagorai  NaN  NaN  NaN   \n",
       "9     so1_L_g_b_003.jpg     so1     G    NaN    B  Lagorai  NaN  NaN  NaN   \n",
       "10    so1_L_g_b_004.jpg     so1     G    NaN    B  Lagorai  NaN  NaN  NaN   \n",
       "11    so1_L_g_b_005.jpg     so1     G    NaN    B  Lagorai  NaN  NaN  NaN   \n",
       "12    so1_L_g_b_006.jpg     so1     G    NaN    B  Lagorai  NaN  NaN  NaN   \n",
       "13    so1_L_g_b_007.jpg     so1     G    NaN    B  Lagorai  NaN  NaN  NaN   \n",
       "14    so1_L_g_b_008.jpg     so1     G    NaN    B  Lagorai  NaN  NaN  NaN   \n",
       "15    so1_L_g_b_009.jpg     so1     G    NaN    B  Lagorai  NaN  NaN  NaN   \n",
       "16    so1_L_g_b_010.jpg     so1     G    NaN    B  Lagorai  NaN  NaN  NaN   \n",
       "17    so1_L_g_b_011.jpg     so1     G    NaN    B  Lagorai  NaN  NaN  NaN   \n",
       "18   so1_L_g_gb_001.jpg     so1     G    NaN   GB  Lagorai  NaN  NaN  NaN   \n",
       "19   so1_L_g_gb_002.jpg     so1     G    NaN   GB  Lagorai  NaN  NaN  NaN   \n",
       "20    so1_V_g_b_001.jpg     so1     G    NaN    B  Vajolet  NaN  NaN  NaN   \n",
       "21    so1_V_g_b_002.jpg     so1     G    NaN    B  Vajolet  NaN  NaN  NaN   \n",
       "22    so1_V_g_b_003.jpg     so1     G    NaN    B  Vajolet  NaN  NaN  NaN   \n",
       "23    so1_V_g_b_004.jpg     so1     G    NaN    B  Vajolet  NaN  NaN  NaN   \n",
       "24    so1_V_g_b_005.jpg     so1     G    NaN    B  Vajolet  NaN  NaN  NaN   \n",
       "25    so1_V_g_b_006.jpg     so1     G    NaN    B  Vajolet  NaN  NaN  NaN   \n",
       "26    so1_V_g_b_007.jpg     so1     G    NaN    B  Vajolet  NaN  NaN  NaN   \n",
       "27    so1_V_g_b_008.jpg     so1     G    NaN    B  Vajolet  NaN  NaN  NaN   \n",
       "28   so1_V_g_gb_001.jpg     so1     G    NaN   GB  Vajolet  NaN  NaN  NaN   \n",
       "29   so1_V_g_gb_002.jpg     so1     G    NaN   GB  Vajolet  NaN  NaN  NaN   \n",
       "..                  ...     ...   ...    ...  ...      ...  ...  ...  ...   \n",
       "70  so2_L_t_e_s_016.jpg     so2     E     Fr    S  Lagorai  NaN  NaN  NaN   \n",
       "71  so2_L_t_e_s_017.jpg     so2     E     Fr    S  Lagorai  NaN  NaN  NaN   \n",
       "72  so2_L_t_e_s_018.jpg     so2     E     Fr    S  Lagorai  NaN  NaN  NaN   \n",
       "73  so2_L_t_e_s_019.jpg     so2     E     Fr    S  Lagorai  NaN  NaN  NaN   \n",
       "74  so2_L_t_e_s_020.jpg     so2     E     Fr    S  Lagorai  NaN  NaN  NaN   \n",
       "75  so2_L_t_e_s_021.jpg     so2     E     Fr    S  Lagorai  NaN  NaN  NaN   \n",
       "76  so2_L_t_e_s_022.jpg     so2     E     Fr    S  Lagorai  NaN  NaN  NaN   \n",
       "77  so2_L_t_e_s_023.jpg     so2     E     Fr    S  Lagorai  NaN  NaN  NaN   \n",
       "78  so2_L_t_e_s_024.jpg     so2     E     Fr    S  Lagorai  NaN  NaN  NaN   \n",
       "79  so2_L_t_e_s_025.jpg     so2     E     Fr    S  Lagorai  NaN  NaN  NaN   \n",
       "80  so2_L_t_e_s_026.jpg     so2     E     Fr    S  Lagorai  NaN  NaN  NaN   \n",
       "81  so2_L_t_e_s_027.jpg     so2     E     Fr    S  Lagorai  NaN  NaN  NaN   \n",
       "82  so2_L_t_e_s_028.jpg     so2     E     Fr    S  Lagorai  NaN  NaN  NaN   \n",
       "83  so2_L_t_e_s_029.jpg     so2     E     Fr    S  Lagorai  NaN  NaN  NaN   \n",
       "84  so2_L_t_e_s_030.jpg     so2     E     Fr    S  Lagorai  NaN  NaN  NaN   \n",
       "85  so2_L_t_e_s_031.jpg     so2     E     Fr    S  Lagorai  NaN  NaN  NaN   \n",
       "86  so2_L_t_e_s_032.jpg     so2     E     Fr    S  Lagorai  NaN  NaN  NaN   \n",
       "87  so2_L_t_e_s_033.jpg     so2     E     Fr    S  Lagorai  NaN  NaN  NaN   \n",
       "88  so2_L_t_e_s_034.jpg     so2     E     Fr    S  Lagorai  NaN  NaN  NaN   \n",
       "89  so2_L_t_e_s_035.jpg     so2     E     Fr    S  Lagorai  NaN  NaN  NaN   \n",
       "90  so2_L_t_e_s_036.jpg     so2     E     Fr    S  Lagorai  NaN  NaN  NaN   \n",
       "91  so2_L_t_e_s_037.jpg     so2     E     Fr    S  Lagorai  NaN  NaN  NaN   \n",
       "92  so2_L_t_e_s_038.jpg     so2     E     Fr    S  Lagorai  NaN  NaN  NaN   \n",
       "93  so2_L_t_e_s_039.jpg     so2     E     Fr    S  Lagorai  NaN  NaN  NaN   \n",
       "94  so2_L_t_e_s_040.jpg     so2     E     Fr    S  Lagorai  NaN  NaN  NaN   \n",
       "95  so2_L_t_e_s_041.jpg     so2     E     Fr    S  Lagorai  NaN  NaN  NaN   \n",
       "96  so2_L_t_e_s_042.jpg     so2     E     Fr    S  Lagorai  NaN  NaN  NaN   \n",
       "97  so2_L_t_e_s_043.jpg     so2     E     Fr    S  Lagorai  NaN  NaN  NaN   \n",
       "98  so2_L_t_e_s_044.jpg     so2     E     Fr    S  Lagorai  NaN  NaN  NaN   \n",
       "99  so2_L_t_e_s_045.jpg     so2     E     Fr    S  Lagorai  NaN  NaN  NaN   \n",
       "\n",
       "                                             FILEPATH  \n",
       "0   /home/webvalley/deepLearning/data/images/datas...  \n",
       "1   /home/webvalley/deepLearning/data/images/datas...  \n",
       "2   /home/webvalley/deepLearning/data/images/datas...  \n",
       "3   /home/webvalley/deepLearning/data/images/datas...  \n",
       "4   /home/webvalley/deepLearning/data/images/datas...  \n",
       "5   /home/webvalley/deepLearning/data/images/datas...  \n",
       "6   /home/webvalley/deepLearning/data/images/datas...  \n",
       "7   /home/webvalley/deepLearning/data/images/datas...  \n",
       "8   /home/webvalley/deepLearning/data/images/datas...  \n",
       "9   /home/webvalley/deepLearning/data/images/datas...  \n",
       "10  /home/webvalley/deepLearning/data/images/datas...  \n",
       "11  /home/webvalley/deepLearning/data/images/datas...  \n",
       "12  /home/webvalley/deepLearning/data/images/datas...  \n",
       "13  /home/webvalley/deepLearning/data/images/datas...  \n",
       "14  /home/webvalley/deepLearning/data/images/datas...  \n",
       "15  /home/webvalley/deepLearning/data/images/datas...  \n",
       "16  /home/webvalley/deepLearning/data/images/datas...  \n",
       "17  /home/webvalley/deepLearning/data/images/datas...  \n",
       "18  /home/webvalley/deepLearning/data/images/datas...  \n",
       "19  /home/webvalley/deepLearning/data/images/datas...  \n",
       "20  /home/webvalley/deepLearning/data/images/datas...  \n",
       "21  /home/webvalley/deepLearning/data/images/datas...  \n",
       "22  /home/webvalley/deepLearning/data/images/datas...  \n",
       "23  /home/webvalley/deepLearning/data/images/datas...  \n",
       "24  /home/webvalley/deepLearning/data/images/datas...  \n",
       "25  /home/webvalley/deepLearning/data/images/datas...  \n",
       "26  /home/webvalley/deepLearning/data/images/datas...  \n",
       "27  /home/webvalley/deepLearning/data/images/datas...  \n",
       "28  /home/webvalley/deepLearning/data/images/datas...  \n",
       "29  /home/webvalley/deepLearning/data/images/datas...  \n",
       "..                                                ...  \n",
       "70  /home/webvalley/deepLearning/data/images/datas...  \n",
       "71  /home/webvalley/deepLearning/data/images/datas...  \n",
       "72  /home/webvalley/deepLearning/data/images/datas...  \n",
       "73  /home/webvalley/deepLearning/data/images/datas...  \n",
       "74  /home/webvalley/deepLearning/data/images/datas...  \n",
       "75  /home/webvalley/deepLearning/data/images/datas...  \n",
       "76  /home/webvalley/deepLearning/data/images/datas...  \n",
       "77  /home/webvalley/deepLearning/data/images/datas...  \n",
       "78  /home/webvalley/deepLearning/data/images/datas...  \n",
       "79  /home/webvalley/deepLearning/data/images/datas...  \n",
       "80  /home/webvalley/deepLearning/data/images/datas...  \n",
       "81  /home/webvalley/deepLearning/data/images/datas...  \n",
       "82  /home/webvalley/deepLearning/data/images/datas...  \n",
       "83  /home/webvalley/deepLearning/data/images/datas...  \n",
       "84  /home/webvalley/deepLearning/data/images/datas...  \n",
       "85  /home/webvalley/deepLearning/data/images/datas...  \n",
       "86  /home/webvalley/deepLearning/data/images/datas...  \n",
       "87  /home/webvalley/deepLearning/data/images/datas...  \n",
       "88  /home/webvalley/deepLearning/data/images/datas...  \n",
       "89  /home/webvalley/deepLearning/data/images/datas...  \n",
       "90  /home/webvalley/deepLearning/data/images/datas...  \n",
       "91  /home/webvalley/deepLearning/data/images/datas...  \n",
       "92  /home/webvalley/deepLearning/data/images/datas...  \n",
       "93  /home/webvalley/deepLearning/data/images/datas...  \n",
       "94  /home/webvalley/deepLearning/data/images/datas...  \n",
       "95  /home/webvalley/deepLearning/data/images/datas...  \n",
       "96  /home/webvalley/deepLearning/data/images/datas...  \n",
       "97  /home/webvalley/deepLearning/data/images/datas...  \n",
       "98  /home/webvalley/deepLearning/data/images/datas...  \n",
       "99  /home/webvalley/deepLearning/data/images/datas...  \n",
       "\n",
       "[100 rows x 10 columns]"
      ]
     },
     "execution_count": 4,
     "metadata": {},
     "output_type": "execute_result"
    }
   ],
   "source": [
    "df.head(n=100)"
   ]
  },
  {
   "cell_type": "code",
   "execution_count": 5,
   "metadata": {
    "collapsed": false
   },
   "outputs": [
    {
     "data": {
      "text/plain": [
       "Index(['FILENAME', 'DATASET', 'CLASS', 'CAMERA', 'CONF', 'VARIETY', 'SOSQ',\n",
       "       'SOMQ', 'CAT', 'FILEPATH'],\n",
       "      dtype='object')"
      ]
     },
     "execution_count": 5,
     "metadata": {},
     "output_type": "execute_result"
    }
   ],
   "source": [
    "df.columns"
   ]
  },
  {
   "cell_type": "code",
   "execution_count": 6,
   "metadata": {
    "collapsed": true
   },
   "outputs": [],
   "source": [
    "from matplotlib import pyplot as plt"
   ]
  },
  {
   "cell_type": "markdown",
   "metadata": {},
   "source": [
    "# Number of Images per Dataset"
   ]
  },
  {
   "cell_type": "code",
   "execution_count": 7,
   "metadata": {
    "collapsed": false
   },
   "outputs": [
    {
     "name": "stdout",
     "output_type": "stream",
     "text": [
      "so1  :  44\n",
      "so2  :  1286\n",
      "so3  :  317\n",
      "so4  :  307\n",
      "som  :  2535\n",
      "sos  :  891\n"
     ]
    }
   ],
   "source": [
    "for ds_name in df.DATASET.unique():\n",
    "    print(ds_name, ' : ', len(df[df.DATASET==ds_name]))"
   ]
  },
  {
   "cell_type": "markdown",
   "metadata": {},
   "source": [
    "## Labels per SO1"
   ]
  },
  {
   "cell_type": "code",
   "execution_count": 8,
   "metadata": {
    "collapsed": false
   },
   "outputs": [],
   "source": [
    "so1 = df[df.DATASET=='so1']"
   ]
  },
  {
   "cell_type": "code",
   "execution_count": 9,
   "metadata": {
    "collapsed": false
   },
   "outputs": [
    {
     "data": {
      "text/html": [
       "<div>\n",
       "<table border=\"1\" class=\"dataframe\">\n",
       "  <thead>\n",
       "    <tr style=\"text-align: right;\">\n",
       "      <th></th>\n",
       "      <th>FILENAME</th>\n",
       "      <th>DATASET</th>\n",
       "      <th>CLASS</th>\n",
       "      <th>CAMERA</th>\n",
       "      <th>CONF</th>\n",
       "      <th>VARIETY</th>\n",
       "      <th>SOSQ</th>\n",
       "      <th>SOMQ</th>\n",
       "      <th>CAT</th>\n",
       "      <th>FILEPATH</th>\n",
       "    </tr>\n",
       "  </thead>\n",
       "  <tbody>\n",
       "    <tr>\n",
       "      <th>0</th>\n",
       "      <td>so1_L_e_b_001.jpg</td>\n",
       "      <td>so1</td>\n",
       "      <td>E</td>\n",
       "      <td>NaN</td>\n",
       "      <td>B</td>\n",
       "      <td>Lagorai</td>\n",
       "      <td>NaN</td>\n",
       "      <td>NaN</td>\n",
       "      <td>NaN</td>\n",
       "      <td>/home/webvalley/deepLearning/data/images/datas...</td>\n",
       "    </tr>\n",
       "    <tr>\n",
       "      <th>1</th>\n",
       "      <td>so1_L_e_b_002.jpg</td>\n",
       "      <td>so1</td>\n",
       "      <td>E</td>\n",
       "      <td>NaN</td>\n",
       "      <td>B</td>\n",
       "      <td>Lagorai</td>\n",
       "      <td>NaN</td>\n",
       "      <td>NaN</td>\n",
       "      <td>NaN</td>\n",
       "      <td>/home/webvalley/deepLearning/data/images/datas...</td>\n",
       "    </tr>\n",
       "    <tr>\n",
       "      <th>2</th>\n",
       "      <td>so1_V_e_b_001.jpg</td>\n",
       "      <td>so1</td>\n",
       "      <td>E</td>\n",
       "      <td>NaN</td>\n",
       "      <td>B</td>\n",
       "      <td>Vajolet</td>\n",
       "      <td>NaN</td>\n",
       "      <td>NaN</td>\n",
       "      <td>NaN</td>\n",
       "      <td>/home/webvalley/deepLearning/data/images/datas...</td>\n",
       "    </tr>\n",
       "    <tr>\n",
       "      <th>3</th>\n",
       "      <td>so1_V_e_b_002.jpg</td>\n",
       "      <td>so1</td>\n",
       "      <td>E</td>\n",
       "      <td>NaN</td>\n",
       "      <td>B</td>\n",
       "      <td>Vajolet</td>\n",
       "      <td>NaN</td>\n",
       "      <td>NaN</td>\n",
       "      <td>NaN</td>\n",
       "      <td>/home/webvalley/deepLearning/data/images/datas...</td>\n",
       "    </tr>\n",
       "    <tr>\n",
       "      <th>4</th>\n",
       "      <td>so1_V_e_b_003.jpg</td>\n",
       "      <td>so1</td>\n",
       "      <td>E</td>\n",
       "      <td>NaN</td>\n",
       "      <td>B</td>\n",
       "      <td>Vajolet</td>\n",
       "      <td>NaN</td>\n",
       "      <td>NaN</td>\n",
       "      <td>NaN</td>\n",
       "      <td>/home/webvalley/deepLearning/data/images/datas...</td>\n",
       "    </tr>\n",
       "  </tbody>\n",
       "</table>\n",
       "</div>"
      ],
      "text/plain": [
       "            FILENAME DATASET CLASS CAMERA CONF  VARIETY SOSQ SOMQ  CAT  \\\n",
       "0  so1_L_e_b_001.jpg     so1     E    NaN    B  Lagorai  NaN  NaN  NaN   \n",
       "1  so1_L_e_b_002.jpg     so1     E    NaN    B  Lagorai  NaN  NaN  NaN   \n",
       "2  so1_V_e_b_001.jpg     so1     E    NaN    B  Vajolet  NaN  NaN  NaN   \n",
       "3  so1_V_e_b_002.jpg     so1     E    NaN    B  Vajolet  NaN  NaN  NaN   \n",
       "4  so1_V_e_b_003.jpg     so1     E    NaN    B  Vajolet  NaN  NaN  NaN   \n",
       "\n",
       "                                            FILEPATH  \n",
       "0  /home/webvalley/deepLearning/data/images/datas...  \n",
       "1  /home/webvalley/deepLearning/data/images/datas...  \n",
       "2  /home/webvalley/deepLearning/data/images/datas...  \n",
       "3  /home/webvalley/deepLearning/data/images/datas...  \n",
       "4  /home/webvalley/deepLearning/data/images/datas...  "
      ]
     },
     "execution_count": 9,
     "metadata": {},
     "output_type": "execute_result"
    }
   ],
   "source": [
    "so1.head()"
   ]
  },
  {
   "cell_type": "code",
   "execution_count": 10,
   "metadata": {
    "collapsed": false
   },
   "outputs": [
    {
     "data": {
      "text/plain": [
       "array(['so1'], dtype=object)"
      ]
     },
     "execution_count": 10,
     "metadata": {},
     "output_type": "execute_result"
    }
   ],
   "source": [
    "so1.DATASET.unique()"
   ]
  },
  {
   "cell_type": "code",
   "execution_count": 11,
   "metadata": {
    "collapsed": false
   },
   "outputs": [],
   "source": [
    "so2 = df[df.DATASET=='so2']"
   ]
  },
  {
   "cell_type": "code",
   "execution_count": 12,
   "metadata": {
    "collapsed": false
   },
   "outputs": [
    {
     "data": {
      "text/html": [
       "<div>\n",
       "<table border=\"1\" class=\"dataframe\">\n",
       "  <thead>\n",
       "    <tr style=\"text-align: right;\">\n",
       "      <th></th>\n",
       "      <th>FILENAME</th>\n",
       "      <th>DATASET</th>\n",
       "      <th>CLASS</th>\n",
       "      <th>CAMERA</th>\n",
       "      <th>CONF</th>\n",
       "      <th>VARIETY</th>\n",
       "      <th>SOSQ</th>\n",
       "      <th>SOMQ</th>\n",
       "      <th>CAT</th>\n",
       "      <th>FILEPATH</th>\n",
       "    </tr>\n",
       "  </thead>\n",
       "  <tbody>\n",
       "    <tr>\n",
       "      <th>44</th>\n",
       "      <td>so2_L_t_e_b_001.jpg</td>\n",
       "      <td>so2</td>\n",
       "      <td>E</td>\n",
       "      <td>Fr</td>\n",
       "      <td>B</td>\n",
       "      <td>Lagorai</td>\n",
       "      <td>NaN</td>\n",
       "      <td>NaN</td>\n",
       "      <td>NaN</td>\n",
       "      <td>/home/webvalley/deepLearning/data/images/datas...</td>\n",
       "    </tr>\n",
       "    <tr>\n",
       "      <th>45</th>\n",
       "      <td>so2_L_t_e_b_002.jpg</td>\n",
       "      <td>so2</td>\n",
       "      <td>E</td>\n",
       "      <td>Fr</td>\n",
       "      <td>B</td>\n",
       "      <td>Lagorai</td>\n",
       "      <td>NaN</td>\n",
       "      <td>NaN</td>\n",
       "      <td>NaN</td>\n",
       "      <td>/home/webvalley/deepLearning/data/images/datas...</td>\n",
       "    </tr>\n",
       "    <tr>\n",
       "      <th>46</th>\n",
       "      <td>so2_L_t_e_b_003.jpg</td>\n",
       "      <td>so2</td>\n",
       "      <td>E</td>\n",
       "      <td>Fr</td>\n",
       "      <td>B</td>\n",
       "      <td>Lagorai</td>\n",
       "      <td>NaN</td>\n",
       "      <td>NaN</td>\n",
       "      <td>NaN</td>\n",
       "      <td>/home/webvalley/deepLearning/data/images/datas...</td>\n",
       "    </tr>\n",
       "    <tr>\n",
       "      <th>47</th>\n",
       "      <td>so2_L_t_e_b_004.jpg</td>\n",
       "      <td>so2</td>\n",
       "      <td>E</td>\n",
       "      <td>Fr</td>\n",
       "      <td>B</td>\n",
       "      <td>Lagorai</td>\n",
       "      <td>NaN</td>\n",
       "      <td>NaN</td>\n",
       "      <td>NaN</td>\n",
       "      <td>/home/webvalley/deepLearning/data/images/datas...</td>\n",
       "    </tr>\n",
       "    <tr>\n",
       "      <th>48</th>\n",
       "      <td>so2_L_t_e_b_005.jpg</td>\n",
       "      <td>so2</td>\n",
       "      <td>E</td>\n",
       "      <td>Fr</td>\n",
       "      <td>B</td>\n",
       "      <td>Lagorai</td>\n",
       "      <td>NaN</td>\n",
       "      <td>NaN</td>\n",
       "      <td>NaN</td>\n",
       "      <td>/home/webvalley/deepLearning/data/images/datas...</td>\n",
       "    </tr>\n",
       "  </tbody>\n",
       "</table>\n",
       "</div>"
      ],
      "text/plain": [
       "               FILENAME DATASET CLASS CAMERA CONF  VARIETY SOSQ SOMQ  CAT  \\\n",
       "44  so2_L_t_e_b_001.jpg     so2     E     Fr    B  Lagorai  NaN  NaN  NaN   \n",
       "45  so2_L_t_e_b_002.jpg     so2     E     Fr    B  Lagorai  NaN  NaN  NaN   \n",
       "46  so2_L_t_e_b_003.jpg     so2     E     Fr    B  Lagorai  NaN  NaN  NaN   \n",
       "47  so2_L_t_e_b_004.jpg     so2     E     Fr    B  Lagorai  NaN  NaN  NaN   \n",
       "48  so2_L_t_e_b_005.jpg     so2     E     Fr    B  Lagorai  NaN  NaN  NaN   \n",
       "\n",
       "                                             FILEPATH  \n",
       "44  /home/webvalley/deepLearning/data/images/datas...  \n",
       "45  /home/webvalley/deepLearning/data/images/datas...  \n",
       "46  /home/webvalley/deepLearning/data/images/datas...  \n",
       "47  /home/webvalley/deepLearning/data/images/datas...  \n",
       "48  /home/webvalley/deepLearning/data/images/datas...  "
      ]
     },
     "execution_count": 12,
     "metadata": {},
     "output_type": "execute_result"
    }
   ],
   "source": [
    "so2.head()"
   ]
  },
  {
   "cell_type": "code",
   "execution_count": 13,
   "metadata": {
    "collapsed": false
   },
   "outputs": [
    {
     "data": {
      "text/plain": [
       "array(['so2'], dtype=object)"
      ]
     },
     "execution_count": 13,
     "metadata": {},
     "output_type": "execute_result"
    }
   ],
   "source": [
    "# Cross Check\n",
    "so2.DATASET.unique()"
   ]
  },
  {
   "cell_type": "code",
   "execution_count": 14,
   "metadata": {
    "collapsed": false
   },
   "outputs": [
    {
     "data": {
      "text/html": [
       "<div>\n",
       "<table border=\"1\" class=\"dataframe\">\n",
       "  <thead>\n",
       "    <tr style=\"text-align: right;\">\n",
       "      <th></th>\n",
       "      <th>FILENAME</th>\n",
       "      <th>DATASET</th>\n",
       "      <th>CLASS</th>\n",
       "      <th>CAMERA</th>\n",
       "      <th>CONF</th>\n",
       "      <th>VARIETY</th>\n",
       "      <th>SOSQ</th>\n",
       "      <th>SOMQ</th>\n",
       "      <th>CAT</th>\n",
       "      <th>FILEPATH</th>\n",
       "    </tr>\n",
       "  </thead>\n",
       "  <tbody>\n",
       "    <tr>\n",
       "      <th>1330</th>\n",
       "      <td>so3_e_b_06.jpg</td>\n",
       "      <td>so3</td>\n",
       "      <td>E</td>\n",
       "      <td>Ch</td>\n",
       "      <td>B</td>\n",
       "      <td>NaN</td>\n",
       "      <td>NaN</td>\n",
       "      <td>NaN</td>\n",
       "      <td>NaN</td>\n",
       "      <td>/home/webvalley/deepLearning/data/images/datas...</td>\n",
       "    </tr>\n",
       "    <tr>\n",
       "      <th>1331</th>\n",
       "      <td>so3_e_b_08.jpg</td>\n",
       "      <td>so3</td>\n",
       "      <td>E</td>\n",
       "      <td>Ch</td>\n",
       "      <td>B</td>\n",
       "      <td>NaN</td>\n",
       "      <td>NaN</td>\n",
       "      <td>NaN</td>\n",
       "      <td>NaN</td>\n",
       "      <td>/home/webvalley/deepLearning/data/images/datas...</td>\n",
       "    </tr>\n",
       "    <tr>\n",
       "      <th>1332</th>\n",
       "      <td>so3_e_b_13.jpg</td>\n",
       "      <td>so3</td>\n",
       "      <td>E</td>\n",
       "      <td>Mi</td>\n",
       "      <td>B</td>\n",
       "      <td>NaN</td>\n",
       "      <td>NaN</td>\n",
       "      <td>NaN</td>\n",
       "      <td>NaN</td>\n",
       "      <td>/home/webvalley/deepLearning/data/images/datas...</td>\n",
       "    </tr>\n",
       "    <tr>\n",
       "      <th>1333</th>\n",
       "      <td>so3_e_b_16.jpg</td>\n",
       "      <td>so3</td>\n",
       "      <td>E</td>\n",
       "      <td>Ch</td>\n",
       "      <td>B</td>\n",
       "      <td>NaN</td>\n",
       "      <td>NaN</td>\n",
       "      <td>NaN</td>\n",
       "      <td>NaN</td>\n",
       "      <td>/home/webvalley/deepLearning/data/images/datas...</td>\n",
       "    </tr>\n",
       "    <tr>\n",
       "      <th>1334</th>\n",
       "      <td>so3_e_s_06_0.jpg</td>\n",
       "      <td>so3</td>\n",
       "      <td>E</td>\n",
       "      <td>Ch</td>\n",
       "      <td>S</td>\n",
       "      <td>NaN</td>\n",
       "      <td>NaN</td>\n",
       "      <td>NaN</td>\n",
       "      <td>NaN</td>\n",
       "      <td>/home/webvalley/deepLearning/data/images/datas...</td>\n",
       "    </tr>\n",
       "  </tbody>\n",
       "</table>\n",
       "</div>"
      ],
      "text/plain": [
       "              FILENAME DATASET CLASS CAMERA CONF VARIETY SOSQ SOMQ  CAT  \\\n",
       "1330    so3_e_b_06.jpg     so3     E     Ch    B     NaN  NaN  NaN  NaN   \n",
       "1331    so3_e_b_08.jpg     so3     E     Ch    B     NaN  NaN  NaN  NaN   \n",
       "1332    so3_e_b_13.jpg     so3     E     Mi    B     NaN  NaN  NaN  NaN   \n",
       "1333    so3_e_b_16.jpg     so3     E     Ch    B     NaN  NaN  NaN  NaN   \n",
       "1334  so3_e_s_06_0.jpg     so3     E     Ch    S     NaN  NaN  NaN  NaN   \n",
       "\n",
       "                                               FILEPATH  \n",
       "1330  /home/webvalley/deepLearning/data/images/datas...  \n",
       "1331  /home/webvalley/deepLearning/data/images/datas...  \n",
       "1332  /home/webvalley/deepLearning/data/images/datas...  \n",
       "1333  /home/webvalley/deepLearning/data/images/datas...  \n",
       "1334  /home/webvalley/deepLearning/data/images/datas...  "
      ]
     },
     "execution_count": 14,
     "metadata": {},
     "output_type": "execute_result"
    }
   ],
   "source": [
    "so3 = df[df.DATASET=='so3']\n",
    "so3.head()"
   ]
  },
  {
   "cell_type": "code",
   "execution_count": 15,
   "metadata": {
    "collapsed": false
   },
   "outputs": [
    {
     "data": {
      "text/plain": [
       "array(['so3'], dtype=object)"
      ]
     },
     "execution_count": 15,
     "metadata": {},
     "output_type": "execute_result"
    }
   ],
   "source": [
    "# CC\n",
    "so3.DATASET.unique()"
   ]
  },
  {
   "cell_type": "code",
   "execution_count": 16,
   "metadata": {
    "collapsed": false,
    "scrolled": false
   },
   "outputs": [
    {
     "data": {
      "text/html": [
       "<div>\n",
       "<table border=\"1\" class=\"dataframe\">\n",
       "  <thead>\n",
       "    <tr style=\"text-align: right;\">\n",
       "      <th></th>\n",
       "      <th>FILENAME</th>\n",
       "      <th>DATASET</th>\n",
       "      <th>CLASS</th>\n",
       "      <th>CAMERA</th>\n",
       "      <th>CONF</th>\n",
       "      <th>VARIETY</th>\n",
       "      <th>SOSQ</th>\n",
       "      <th>SOMQ</th>\n",
       "      <th>CAT</th>\n",
       "      <th>FILEPATH</th>\n",
       "    </tr>\n",
       "  </thead>\n",
       "  <tbody>\n",
       "    <tr>\n",
       "      <th>4489</th>\n",
       "      <td>IMG-20160307-WA0000.jpg</td>\n",
       "      <td>sos</td>\n",
       "      <td>NaN</td>\n",
       "      <td>NaN</td>\n",
       "      <td>GB</td>\n",
       "      <td>NaN</td>\n",
       "      <td>A</td>\n",
       "      <td>NaN</td>\n",
       "      <td>NaN</td>\n",
       "      <td>/home/webvalley/deepLearning/data/images/datas...</td>\n",
       "    </tr>\n",
       "    <tr>\n",
       "      <th>4490</th>\n",
       "      <td>IMG-20160307-WA0001.jpg</td>\n",
       "      <td>sos</td>\n",
       "      <td>NaN</td>\n",
       "      <td>NaN</td>\n",
       "      <td>GB</td>\n",
       "      <td>NaN</td>\n",
       "      <td>A</td>\n",
       "      <td>NaN</td>\n",
       "      <td>NaN</td>\n",
       "      <td>/home/webvalley/deepLearning/data/images/datas...</td>\n",
       "    </tr>\n",
       "    <tr>\n",
       "      <th>4491</th>\n",
       "      <td>IMG-20160307-WA0002.jpg</td>\n",
       "      <td>sos</td>\n",
       "      <td>NaN</td>\n",
       "      <td>NaN</td>\n",
       "      <td>GB</td>\n",
       "      <td>NaN</td>\n",
       "      <td>A</td>\n",
       "      <td>NaN</td>\n",
       "      <td>NaN</td>\n",
       "      <td>/home/webvalley/deepLearning/data/images/datas...</td>\n",
       "    </tr>\n",
       "    <tr>\n",
       "      <th>4492</th>\n",
       "      <td>IMG-20160308-WA0000.jpg</td>\n",
       "      <td>sos</td>\n",
       "      <td>NaN</td>\n",
       "      <td>NaN</td>\n",
       "      <td>GB</td>\n",
       "      <td>NaN</td>\n",
       "      <td>A</td>\n",
       "      <td>NaN</td>\n",
       "      <td>NaN</td>\n",
       "      <td>/home/webvalley/deepLearning/data/images/datas...</td>\n",
       "    </tr>\n",
       "    <tr>\n",
       "      <th>4493</th>\n",
       "      <td>IMG-20160308-WA0001.jpg</td>\n",
       "      <td>sos</td>\n",
       "      <td>NaN</td>\n",
       "      <td>NaN</td>\n",
       "      <td>GB</td>\n",
       "      <td>NaN</td>\n",
       "      <td>A</td>\n",
       "      <td>NaN</td>\n",
       "      <td>NaN</td>\n",
       "      <td>/home/webvalley/deepLearning/data/images/datas...</td>\n",
       "    </tr>\n",
       "  </tbody>\n",
       "</table>\n",
       "</div>"
      ],
      "text/plain": [
       "                     FILENAME DATASET CLASS CAMERA CONF VARIETY SOSQ SOMQ  \\\n",
       "4489  IMG-20160307-WA0000.jpg     sos   NaN    NaN   GB     NaN    A  NaN   \n",
       "4490  IMG-20160307-WA0001.jpg     sos   NaN    NaN   GB     NaN    A  NaN   \n",
       "4491  IMG-20160307-WA0002.jpg     sos   NaN    NaN   GB     NaN    A  NaN   \n",
       "4492  IMG-20160308-WA0000.jpg     sos   NaN    NaN   GB     NaN    A  NaN   \n",
       "4493  IMG-20160308-WA0001.jpg     sos   NaN    NaN   GB     NaN    A  NaN   \n",
       "\n",
       "      CAT                                           FILEPATH  \n",
       "4489  NaN  /home/webvalley/deepLearning/data/images/datas...  \n",
       "4490  NaN  /home/webvalley/deepLearning/data/images/datas...  \n",
       "4491  NaN  /home/webvalley/deepLearning/data/images/datas...  \n",
       "4492  NaN  /home/webvalley/deepLearning/data/images/datas...  \n",
       "4493  NaN  /home/webvalley/deepLearning/data/images/datas...  "
      ]
     },
     "execution_count": 16,
     "metadata": {},
     "output_type": "execute_result"
    }
   ],
   "source": [
    "sos = df[df.DATASET=='sos']\n",
    "sos.head()"
   ]
  },
  {
   "cell_type": "code",
   "execution_count": 17,
   "metadata": {
    "collapsed": false
   },
   "outputs": [
    {
     "data": {
      "text/plain": [
       "array(['sos'], dtype=object)"
      ]
     },
     "execution_count": 17,
     "metadata": {},
     "output_type": "execute_result"
    }
   ],
   "source": [
    "# CC\n",
    "sos.DATASET.unique()"
   ]
  },
  {
   "cell_type": "code",
   "execution_count": 18,
   "metadata": {
    "collapsed": false
   },
   "outputs": [
    {
     "data": {
      "text/html": [
       "<div>\n",
       "<table border=\"1\" class=\"dataframe\">\n",
       "  <thead>\n",
       "    <tr style=\"text-align: right;\">\n",
       "      <th></th>\n",
       "      <th>FILENAME</th>\n",
       "      <th>DATASET</th>\n",
       "      <th>CLASS</th>\n",
       "      <th>CAMERA</th>\n",
       "      <th>CONF</th>\n",
       "      <th>VARIETY</th>\n",
       "      <th>SOSQ</th>\n",
       "      <th>SOMQ</th>\n",
       "      <th>CAT</th>\n",
       "      <th>FILEPATH</th>\n",
       "    </tr>\n",
       "  </thead>\n",
       "  <tbody>\n",
       "    <tr>\n",
       "      <th>1954</th>\n",
       "      <td>1</td>\n",
       "      <td>som</td>\n",
       "      <td>NaN</td>\n",
       "      <td>NaN</td>\n",
       "      <td>B</td>\n",
       "      <td>Kwanza</td>\n",
       "      <td>NaN</td>\n",
       "      <td>DA CONGELARE</td>\n",
       "      <td>1.0</td>\n",
       "      <td>/home/webvalley/deepLearning/data/images/datas...</td>\n",
       "    </tr>\n",
       "    <tr>\n",
       "      <th>1955</th>\n",
       "      <td>1</td>\n",
       "      <td>som</td>\n",
       "      <td>NaN</td>\n",
       "      <td>NaN</td>\n",
       "      <td>B</td>\n",
       "      <td>Kwanza</td>\n",
       "      <td>NaN</td>\n",
       "      <td>DA CONGELARE</td>\n",
       "      <td>1.0</td>\n",
       "      <td>/home/webvalley/deepLearning/data/images/datas...</td>\n",
       "    </tr>\n",
       "    <tr>\n",
       "      <th>1956</th>\n",
       "      <td>1</td>\n",
       "      <td>som</td>\n",
       "      <td>NaN</td>\n",
       "      <td>NaN</td>\n",
       "      <td>B</td>\n",
       "      <td>Kwanza</td>\n",
       "      <td>NaN</td>\n",
       "      <td>DA CONGELARE</td>\n",
       "      <td>1.0</td>\n",
       "      <td>/home/webvalley/deepLearning/data/images/datas...</td>\n",
       "    </tr>\n",
       "    <tr>\n",
       "      <th>1957</th>\n",
       "      <td>1</td>\n",
       "      <td>som</td>\n",
       "      <td>NaN</td>\n",
       "      <td>NaN</td>\n",
       "      <td>B</td>\n",
       "      <td>Kwanza</td>\n",
       "      <td>NaN</td>\n",
       "      <td>SO</td>\n",
       "      <td>1.0</td>\n",
       "      <td>/home/webvalley/deepLearning/data/images/datas...</td>\n",
       "    </tr>\n",
       "    <tr>\n",
       "      <th>1958</th>\n",
       "      <td>1</td>\n",
       "      <td>som</td>\n",
       "      <td>NaN</td>\n",
       "      <td>NaN</td>\n",
       "      <td>B</td>\n",
       "      <td>Kwanza</td>\n",
       "      <td>NaN</td>\n",
       "      <td>SO</td>\n",
       "      <td>1.0</td>\n",
       "      <td>/home/webvalley/deepLearning/data/images/datas...</td>\n",
       "    </tr>\n",
       "  </tbody>\n",
       "</table>\n",
       "</div>"
      ],
      "text/plain": [
       "     FILENAME DATASET CLASS CAMERA CONF VARIETY SOSQ          SOMQ  CAT  \\\n",
       "1954        1     som   NaN    NaN    B  Kwanza  NaN  DA CONGELARE  1.0   \n",
       "1955        1     som   NaN    NaN    B  Kwanza  NaN  DA CONGELARE  1.0   \n",
       "1956        1     som   NaN    NaN    B  Kwanza  NaN  DA CONGELARE  1.0   \n",
       "1957        1     som   NaN    NaN    B  Kwanza  NaN            SO  1.0   \n",
       "1958        1     som   NaN    NaN    B  Kwanza  NaN            SO  1.0   \n",
       "\n",
       "                                               FILEPATH  \n",
       "1954  /home/webvalley/deepLearning/data/images/datas...  \n",
       "1955  /home/webvalley/deepLearning/data/images/datas...  \n",
       "1956  /home/webvalley/deepLearning/data/images/datas...  \n",
       "1957  /home/webvalley/deepLearning/data/images/datas...  \n",
       "1958  /home/webvalley/deepLearning/data/images/datas...  "
      ]
     },
     "execution_count": 18,
     "metadata": {},
     "output_type": "execute_result"
    }
   ],
   "source": [
    "som = df[df.DATASET=='som']\n",
    "som.head()"
   ]
  },
  {
   "cell_type": "code",
   "execution_count": 19,
   "metadata": {
    "collapsed": false
   },
   "outputs": [
    {
     "data": {
      "text/plain": [
       "array(['som'], dtype=object)"
      ]
     },
     "execution_count": 19,
     "metadata": {},
     "output_type": "execute_result"
    }
   ],
   "source": [
    "# CC\n",
    "som.DATASET.unique()"
   ]
  },
  {
   "cell_type": "code",
   "execution_count": 20,
   "metadata": {
    "collapsed": false
   },
   "outputs": [
    {
     "data": {
      "text/html": [
       "<div>\n",
       "<table border=\"1\" class=\"dataframe\">\n",
       "  <thead>\n",
       "    <tr style=\"text-align: right;\">\n",
       "      <th></th>\n",
       "      <th>FILENAME</th>\n",
       "      <th>DATASET</th>\n",
       "      <th>CLASS</th>\n",
       "      <th>CAMERA</th>\n",
       "      <th>CONF</th>\n",
       "      <th>VARIETY</th>\n",
       "      <th>SOSQ</th>\n",
       "      <th>SOMQ</th>\n",
       "      <th>CAT</th>\n",
       "      <th>FILEPATH</th>\n",
       "    </tr>\n",
       "  </thead>\n",
       "  <tbody>\n",
       "    <tr>\n",
       "      <th>1647</th>\n",
       "      <td>so4_L_e_s_09_0.jpg</td>\n",
       "      <td>so4</td>\n",
       "      <td>E</td>\n",
       "      <td>Mi</td>\n",
       "      <td>S</td>\n",
       "      <td>Lagorai</td>\n",
       "      <td>NaN</td>\n",
       "      <td>NaN</td>\n",
       "      <td>NaN</td>\n",
       "      <td>/home/webvalley/deepLearning/data/images/datas...</td>\n",
       "    </tr>\n",
       "    <tr>\n",
       "      <th>1648</th>\n",
       "      <td>so4_L_e_s_09_1.jpg</td>\n",
       "      <td>so4</td>\n",
       "      <td>E</td>\n",
       "      <td>Mi</td>\n",
       "      <td>S</td>\n",
       "      <td>Lagorai</td>\n",
       "      <td>NaN</td>\n",
       "      <td>NaN</td>\n",
       "      <td>NaN</td>\n",
       "      <td>/home/webvalley/deepLearning/data/images/datas...</td>\n",
       "    </tr>\n",
       "    <tr>\n",
       "      <th>1649</th>\n",
       "      <td>so4_L_e_s_09_10.jpg</td>\n",
       "      <td>so4</td>\n",
       "      <td>E</td>\n",
       "      <td>Mi</td>\n",
       "      <td>S</td>\n",
       "      <td>Lagorai</td>\n",
       "      <td>NaN</td>\n",
       "      <td>NaN</td>\n",
       "      <td>NaN</td>\n",
       "      <td>/home/webvalley/deepLearning/data/images/datas...</td>\n",
       "    </tr>\n",
       "    <tr>\n",
       "      <th>1650</th>\n",
       "      <td>so4_L_e_s_09_11.jpg</td>\n",
       "      <td>so4</td>\n",
       "      <td>E</td>\n",
       "      <td>Mi</td>\n",
       "      <td>S</td>\n",
       "      <td>Lagorai</td>\n",
       "      <td>NaN</td>\n",
       "      <td>NaN</td>\n",
       "      <td>NaN</td>\n",
       "      <td>/home/webvalley/deepLearning/data/images/datas...</td>\n",
       "    </tr>\n",
       "    <tr>\n",
       "      <th>1651</th>\n",
       "      <td>so4_L_e_s_09_12.jpg</td>\n",
       "      <td>so4</td>\n",
       "      <td>E</td>\n",
       "      <td>Mi</td>\n",
       "      <td>S</td>\n",
       "      <td>Lagorai</td>\n",
       "      <td>NaN</td>\n",
       "      <td>NaN</td>\n",
       "      <td>NaN</td>\n",
       "      <td>/home/webvalley/deepLearning/data/images/datas...</td>\n",
       "    </tr>\n",
       "  </tbody>\n",
       "</table>\n",
       "</div>"
      ],
      "text/plain": [
       "                 FILENAME DATASET CLASS CAMERA CONF  VARIETY SOSQ SOMQ  CAT  \\\n",
       "1647   so4_L_e_s_09_0.jpg     so4     E     Mi    S  Lagorai  NaN  NaN  NaN   \n",
       "1648   so4_L_e_s_09_1.jpg     so4     E     Mi    S  Lagorai  NaN  NaN  NaN   \n",
       "1649  so4_L_e_s_09_10.jpg     so4     E     Mi    S  Lagorai  NaN  NaN  NaN   \n",
       "1650  so4_L_e_s_09_11.jpg     so4     E     Mi    S  Lagorai  NaN  NaN  NaN   \n",
       "1651  so4_L_e_s_09_12.jpg     so4     E     Mi    S  Lagorai  NaN  NaN  NaN   \n",
       "\n",
       "                                               FILEPATH  \n",
       "1647  /home/webvalley/deepLearning/data/images/datas...  \n",
       "1648  /home/webvalley/deepLearning/data/images/datas...  \n",
       "1649  /home/webvalley/deepLearning/data/images/datas...  \n",
       "1650  /home/webvalley/deepLearning/data/images/datas...  \n",
       "1651  /home/webvalley/deepLearning/data/images/datas...  "
      ]
     },
     "execution_count": 20,
     "metadata": {},
     "output_type": "execute_result"
    }
   ],
   "source": [
    "so4 = df[df.DATASET=='so4']\n",
    "so4.head()"
   ]
  },
  {
   "cell_type": "code",
   "execution_count": 21,
   "metadata": {
    "collapsed": false
   },
   "outputs": [
    {
     "data": {
      "text/plain": [
       "array(['so4'], dtype=object)"
      ]
     },
     "execution_count": 21,
     "metadata": {},
     "output_type": "execute_result"
    }
   ],
   "source": [
    "so4.DATASET.unique()"
   ]
  },
  {
   "cell_type": "markdown",
   "metadata": {},
   "source": [
    "## Groups"
   ]
  },
  {
   "cell_type": "markdown",
   "metadata": {},
   "source": [
    "### SO1"
   ]
  },
  {
   "cell_type": "code",
   "execution_count": 22,
   "metadata": {
    "collapsed": true
   },
   "outputs": [],
   "source": [
    "columns = ['DATASET', 'CLASS', 'VARIETY']  # REMOVED CONF: USELESS"
   ]
  },
  {
   "cell_type": "code",
   "execution_count": 23,
   "metadata": {
    "collapsed": true
   },
   "outputs": [],
   "source": [
    "grouped = so1.groupby(columns)"
   ]
  },
  {
   "cell_type": "code",
   "execution_count": 24,
   "metadata": {
    "collapsed": false
   },
   "outputs": [
    {
     "data": {
      "text/plain": [
       "[('so1', 'E', 'Lagorai'),\n",
       " ('so1', 'G', 'Lagorai'),\n",
       " ('so1', 'E', 'Vajolet'),\n",
       " ('so1', 'G', 'Vajolet'),\n",
       " ('so1', 'L', 'Lagorai'),\n",
       " ('so1', 'L', 'Vajolet')]"
      ]
     },
     "execution_count": 24,
     "metadata": {},
     "output_type": "execute_result"
    }
   ],
   "source": [
    "list(grouped.groups.keys())"
   ]
  },
  {
   "cell_type": "code",
   "execution_count": 25,
   "metadata": {
    "collapsed": false
   },
   "outputs": [],
   "source": [
    "so1_groups = dict()\n",
    "for key, group in grouped:\n",
    "    so1_groups[key] = dict()\n",
    "    so1_groups[key]['files'] = group.FILEPATH"
   ]
  },
  {
   "cell_type": "markdown",
   "metadata": {},
   "source": [
    "### SO2"
   ]
  },
  {
   "cell_type": "code",
   "execution_count": 26,
   "metadata": {
    "collapsed": true
   },
   "outputs": [],
   "source": [
    "columns = ['DATASET', 'CLASS', 'CONF', 'VARIETY']"
   ]
  },
  {
   "cell_type": "code",
   "execution_count": 27,
   "metadata": {
    "collapsed": true
   },
   "outputs": [],
   "source": [
    "grouped = so2.groupby(columns)"
   ]
  },
  {
   "cell_type": "code",
   "execution_count": 28,
   "metadata": {
    "collapsed": false
   },
   "outputs": [
    {
     "data": {
      "text/plain": [
       "[('so2', 'E', 'S', 'Vajolet'),\n",
       " ('so2', 'L', 'G', 'Lagorai'),\n",
       " ('so2', 'L', 'G', 'Vajolet'),\n",
       " ('so2', 'E', 'B', 'Vajolet'),\n",
       " ('so2', 'G', 'GB', 'Lagorai'),\n",
       " ('so2', 'G', 'G', 'Vajolet'),\n",
       " ('so2', 'E', 'G', 'Vajolet'),\n",
       " ('so2', 'E', 'B', 'Lagorai'),\n",
       " ('so2', 'E', 'G', 'Lagorai'),\n",
       " ('so2', 'G', 'B', 'Lagorai'),\n",
       " ('so2', 'L', 'S', 'Vajolet'),\n",
       " ('so2', 'G', 'GB', 'Vajolet'),\n",
       " ('so2', 'G', 'S', 'Vajolet'),\n",
       " ('so2', 'G', 'B', 'Vajolet'),\n",
       " ('so2', 'E', 'GB', 'Lagorai'),\n",
       " ('so2', 'E', 'S', 'Lagorai'),\n",
       " ('so2', 'E', 'GB', 'Vajolet'),\n",
       " ('so2', 'G', 'S', 'Lagorai'),\n",
       " ('so2', 'L', 'GB', 'Vajolet'),\n",
       " ('so2', 'L', 'S', 'Lagorai'),\n",
       " ('so2', 'L', 'GB', 'Lagorai'),\n",
       " ('so2', 'L', 'B', 'Vajolet'),\n",
       " ('so2', 'G', 'G', 'Lagorai'),\n",
       " ('so2', 'L', 'B', 'Lagorai')]"
      ]
     },
     "execution_count": 28,
     "metadata": {},
     "output_type": "execute_result"
    }
   ],
   "source": [
    "list(grouped.groups.keys())"
   ]
  },
  {
   "cell_type": "code",
   "execution_count": 29,
   "metadata": {
    "collapsed": true
   },
   "outputs": [],
   "source": [
    "so2_groups = dict()\n",
    "for key, group in grouped:\n",
    "    so2_groups[key] = dict()\n",
    "    so2_groups[key]['files'] = group.FILEPATH"
   ]
  },
  {
   "cell_type": "markdown",
   "metadata": {},
   "source": [
    "### SO3"
   ]
  },
  {
   "cell_type": "code",
   "execution_count": 30,
   "metadata": {
    "collapsed": true
   },
   "outputs": [],
   "source": [
    "columns = ['DATASET', 'CLASS', 'CONF']"
   ]
  },
  {
   "cell_type": "code",
   "execution_count": 31,
   "metadata": {
    "collapsed": true
   },
   "outputs": [],
   "source": [
    "grouped = so3.groupby(columns)"
   ]
  },
  {
   "cell_type": "code",
   "execution_count": 32,
   "metadata": {
    "collapsed": false
   },
   "outputs": [
    {
     "data": {
      "text/plain": [
       "[('so3', 'L', 'S'),\n",
       " ('so3', 'G', 'B'),\n",
       " ('so3', 'E', 'S'),\n",
       " ('so3', 'E', 'B'),\n",
       " ('so3', 'G', 'S'),\n",
       " ('so3', 'L', 'B')]"
      ]
     },
     "execution_count": 32,
     "metadata": {},
     "output_type": "execute_result"
    }
   ],
   "source": [
    "list(grouped.groups.keys())"
   ]
  },
  {
   "cell_type": "code",
   "execution_count": 33,
   "metadata": {
    "collapsed": true
   },
   "outputs": [],
   "source": [
    "so3_groups = dict()\n",
    "for key, group in grouped:\n",
    "    so3_groups[key] = dict()\n",
    "    so3_groups[key]['files'] = group.FILEPATH"
   ]
  },
  {
   "cell_type": "markdown",
   "metadata": {},
   "source": [
    "### SOS"
   ]
  },
  {
   "cell_type": "code",
   "execution_count": 34,
   "metadata": {
    "collapsed": true
   },
   "outputs": [],
   "source": [
    "columns = ['DATASET', 'SOSQ']"
   ]
  },
  {
   "cell_type": "code",
   "execution_count": 35,
   "metadata": {
    "collapsed": true
   },
   "outputs": [],
   "source": [
    "grouped = sos.groupby(columns)"
   ]
  },
  {
   "cell_type": "code",
   "execution_count": 36,
   "metadata": {
    "collapsed": false
   },
   "outputs": [
    {
     "data": {
      "text/plain": [
       "[('sos', 'AB'), ('sos', 'A'), ('sos', 'C'), ('sos', 'BC'), ('sos', 'B')]"
      ]
     },
     "execution_count": 36,
     "metadata": {},
     "output_type": "execute_result"
    }
   ],
   "source": [
    "list(grouped.groups.keys())"
   ]
  },
  {
   "cell_type": "code",
   "execution_count": 37,
   "metadata": {
    "collapsed": true
   },
   "outputs": [],
   "source": [
    "sos_groups = dict()\n",
    "for key, group in grouped:\n",
    "    sos_groups[key] = dict()\n",
    "    sos_groups[key]['files'] = group.FILEPATH"
   ]
  },
  {
   "cell_type": "markdown",
   "metadata": {},
   "source": [
    "### SOM"
   ]
  },
  {
   "cell_type": "code",
   "execution_count": 38,
   "metadata": {
    "collapsed": true
   },
   "outputs": [],
   "source": [
    "columns = ['DATASET', 'VARIETY', 'CAT'] # REMOVED SOMQ - NOT SO MUCH RELIABLE"
   ]
  },
  {
   "cell_type": "code",
   "execution_count": 39,
   "metadata": {
    "collapsed": true
   },
   "outputs": [],
   "source": [
    "grouped = som.groupby(columns)"
   ]
  },
  {
   "cell_type": "code",
   "execution_count": 40,
   "metadata": {
    "collapsed": false
   },
   "outputs": [
    {
     "data": {
      "text/plain": [
       "[('som', 'Versailles', 1.0),\n",
       " ('som', 'Diverse', 1.0),\n",
       " ('som', 'Amira', 3.0),\n",
       " ('som', 'Tulameen', 1.0),\n",
       " ('som', 'Diverse', 3.0),\n",
       " ('som', 'Amira', 1.0),\n",
       " ('som', 'Vaiolet', 3.0),\n",
       " ('som', 'Diverse', 2.0),\n",
       " ('som', 'Erika', 1.0),\n",
       " ('som', 'Vaiolet', 2.0),\n",
       " ('som', 'Erika', 3.0),\n",
       " ('som', 'Lagorai Plus', 3.0),\n",
       " ('som', 'Vajolet', 1.0),\n",
       " ('som', 'Vaiolet', 1.0),\n",
       " ('som', 'Tulameen', 2.0),\n",
       " ('som', '-', 3.0),\n",
       " ('som', 'Vajolet', 2.0),\n",
       " ('som', '-', 2.0),\n",
       " ('som', 'Regina', 1.0),\n",
       " ('som', 'Erika', 2.0),\n",
       " ('som', '-', 1.0),\n",
       " ('som', 'Dolomia Plus', 3.0),\n",
       " ('som', 'Regina', 3.0),\n",
       " ('som', 'Lagorai Plus', 1.0),\n",
       " ('som', 'Kwanza', 1.0),\n",
       " ('som', 'Dolomia Plus', 1.0),\n",
       " ('som', 'Paris', 1.0),\n",
       " ('som', 'Evita', 2.0),\n",
       " ('som', 'Paris', 2.0),\n",
       " ('som', 'Amaranta', 3.0),\n",
       " ('som', 'Kwanza', 3.0),\n",
       " ('som', 'Evita', 3.0),\n",
       " ('som', 'Enrosadira', 3.0),\n",
       " ('som', 'Paris', 3.0),\n",
       " ('som', 'Amaranta', 2.0),\n",
       " ('som', 'Kwanza', 2.0),\n",
       " ('som', 'Enrosadira', 2.0),\n",
       " ('som', 'Amaranta', 1.0),\n",
       " ('som', 'Evita', 1.0),\n",
       " ('som', 'Enrosadira', 1.0),\n",
       " ('som', 'Versailles', 3.0),\n",
       " ('som', 'Regina', 2.0),\n",
       " ('som', 'Dolomia Plus', 2.0),\n",
       " ('som', 'Lagorai Plus', 2.0),\n",
       " ('som', 'Versailles', 2.0),\n",
       " ('som', 'Amira', 2.0),\n",
       " ('som', 'Declassati', 3.0)]"
      ]
     },
     "execution_count": 40,
     "metadata": {},
     "output_type": "execute_result"
    }
   ],
   "source": [
    "list(grouped.groups.keys())"
   ]
  },
  {
   "cell_type": "code",
   "execution_count": 41,
   "metadata": {
    "collapsed": false
   },
   "outputs": [
    {
     "data": {
      "text/plain": [
       "47"
      ]
     },
     "execution_count": 41,
     "metadata": {},
     "output_type": "execute_result"
    }
   ],
   "source": [
    "len(list(grouped.groups.keys()))"
   ]
  },
  {
   "cell_type": "code",
   "execution_count": 42,
   "metadata": {
    "collapsed": true
   },
   "outputs": [],
   "source": [
    "som_groups = dict()\n",
    "for key, group in grouped:\n",
    "    som_groups[key] = dict()\n",
    "    som_groups[key]['files'] = group.FILEPATH"
   ]
  },
  {
   "cell_type": "markdown",
   "metadata": {},
   "source": [
    "### Generate Report File for Training (no batching)"
   ]
  },
  {
   "cell_type": "code",
   "execution_count": 43,
   "metadata": {
    "collapsed": true
   },
   "outputs": [],
   "source": [
    "from collections import ChainMap"
   ]
  },
  {
   "cell_type": "code",
   "execution_count": 44,
   "metadata": {
    "collapsed": true
   },
   "outputs": [],
   "source": [
    "TRAINING_REPORT_FILE = 'training_weak_label_so1_so2_so3_som_sos.txt'"
   ]
  },
  {
   "cell_type": "code",
   "execution_count": 45,
   "metadata": {
    "collapsed": false
   },
   "outputs": [
    {
     "name": "stdout",
     "output_type": "stream",
     "text": [
      "('so1', 'E', 'Lagorai')\n",
      "('so1', 'E', 'Vajolet')\n",
      "('so1', 'G', 'Lagorai')\n",
      "('so1', 'G', 'Vajolet')\n",
      "('so1', 'L', 'Lagorai')\n",
      "('so1', 'L', 'Vajolet')\n",
      "('so2', 'E', 'B', 'Lagorai')\n",
      "('so2', 'E', 'B', 'Vajolet')\n",
      "('so2', 'E', 'G', 'Lagorai')\n",
      "('so2', 'E', 'G', 'Vajolet')\n",
      "('so2', 'E', 'GB', 'Lagorai')\n",
      "('so2', 'E', 'GB', 'Vajolet')\n",
      "('so2', 'E', 'S', 'Lagorai')\n",
      "('so2', 'E', 'S', 'Vajolet')\n",
      "('so2', 'G', 'B', 'Lagorai')\n",
      "('so2', 'G', 'B', 'Vajolet')\n",
      "('so2', 'G', 'G', 'Lagorai')\n",
      "('so2', 'G', 'G', 'Vajolet')\n",
      "('so2', 'G', 'GB', 'Lagorai')\n",
      "('so2', 'G', 'GB', 'Vajolet')\n",
      "('so2', 'G', 'S', 'Lagorai')\n",
      "('so2', 'G', 'S', 'Vajolet')\n",
      "('so2', 'L', 'B', 'Lagorai')\n",
      "('so2', 'L', 'B', 'Vajolet')\n",
      "('so2', 'L', 'G', 'Lagorai')\n",
      "('so2', 'L', 'G', 'Vajolet')\n",
      "('so2', 'L', 'GB', 'Lagorai')\n",
      "('so2', 'L', 'GB', 'Vajolet')\n",
      "('so2', 'L', 'S', 'Lagorai')\n",
      "('so2', 'L', 'S', 'Vajolet')\n",
      "('so3', 'E', 'B')\n",
      "('so3', 'E', 'S')\n",
      "('so3', 'G', 'B')\n",
      "('so3', 'G', 'S')\n",
      "('so3', 'L', 'B')\n",
      "('so3', 'L', 'S')\n",
      "('som', '-', 1.0)\n",
      "('som', '-', 2.0)\n",
      "('som', '-', 3.0)\n",
      "('som', 'Amaranta', 1.0)\n",
      "('som', 'Amaranta', 2.0)\n",
      "('som', 'Amaranta', 3.0)\n",
      "('som', 'Amira', 1.0)\n",
      "('som', 'Amira', 2.0)\n",
      "('som', 'Amira', 3.0)\n",
      "('som', 'Declassati', 3.0)\n",
      "('som', 'Diverse', 1.0)\n",
      "('som', 'Diverse', 2.0)\n",
      "('som', 'Diverse', 3.0)\n",
      "('som', 'Dolomia Plus', 1.0)\n",
      "('som', 'Dolomia Plus', 2.0)\n",
      "('som', 'Dolomia Plus', 3.0)\n",
      "('som', 'Enrosadira', 1.0)\n",
      "('som', 'Enrosadira', 2.0)\n",
      "('som', 'Enrosadira', 3.0)\n",
      "('som', 'Erika', 1.0)\n",
      "('som', 'Erika', 2.0)\n",
      "('som', 'Erika', 3.0)\n",
      "('som', 'Evita', 1.0)\n",
      "('som', 'Evita', 2.0)\n",
      "('som', 'Evita', 3.0)\n",
      "('som', 'Kwanza', 1.0)\n",
      "('som', 'Kwanza', 2.0)\n",
      "('som', 'Kwanza', 3.0)\n",
      "('som', 'Lagorai Plus', 1.0)\n",
      "('som', 'Lagorai Plus', 2.0)\n",
      "('som', 'Lagorai Plus', 3.0)\n",
      "('som', 'Paris', 1.0)\n",
      "('som', 'Paris', 2.0)\n",
      "('som', 'Paris', 3.0)\n",
      "('som', 'Regina', 1.0)\n",
      "('som', 'Regina', 2.0)\n",
      "('som', 'Regina', 3.0)\n",
      "('som', 'Tulameen', 1.0)\n",
      "('som', 'Tulameen', 2.0)\n",
      "('som', 'Vaiolet', 1.0)\n",
      "('som', 'Vaiolet', 2.0)\n",
      "('som', 'Vaiolet', 3.0)\n",
      "('som', 'Vajolet', 1.0)\n",
      "('som', 'Vajolet', 2.0)\n",
      "('som', 'Versailles', 1.0)\n",
      "('som', 'Versailles', 2.0)\n",
      "('som', 'Versailles', 3.0)\n",
      "('sos', 'A')\n",
      "('sos', 'AB')\n",
      "('sos', 'B')\n",
      "('sos', 'BC')\n",
      "('sos', 'C')\n"
     ]
    }
   ],
   "source": [
    "group_maps = ChainMap(so1_groups, so2_groups, so3_groups, som_groups, sos_groups)\n",
    "with open(TRAINING_REPORT_FILE, 'w') as training_data:\n",
    "    weak_class_count = 0\n",
    "    for weak_label in sorted(group_maps):\n",
    "        print(weak_label)\n",
    "        files = group_maps[weak_label]['files'].values.tolist()\n",
    "        for filepath in files:\n",
    "            training_data.write('{}\\t{}\\n'.format(filepath, weak_class_count))\n",
    "        weak_class_count += 1\n",
    "        "
   ]
  },
  {
   "cell_type": "markdown",
   "metadata": {},
   "source": [
    "# Generate Train and Validation for SO1, SO2, SO3"
   ]
  },
  {
   "cell_type": "code",
   "execution_count": 46,
   "metadata": {
    "collapsed": true
   },
   "outputs": [],
   "source": [
    "target_datasets = ChainMap(so1_groups, so2_groups, so3_groups)"
   ]
  },
  {
   "cell_type": "code",
   "execution_count": 47,
   "metadata": {
    "collapsed": true
   },
   "outputs": [],
   "source": [
    "from random import seed, sample"
   ]
  },
  {
   "cell_type": "code",
   "execution_count": 48,
   "metadata": {
    "collapsed": true
   },
   "outputs": [],
   "source": [
    "TRAINING_REPORT_FILE_SO123 = 'training_hard_label_so1so2so3.txt'\n",
    "TEST_REPORT_FILE_SO123 = 'test_hard_label_so1so2so3.txt'"
   ]
  },
  {
   "cell_type": "code",
   "execution_count": 49,
   "metadata": {
    "collapsed": true
   },
   "outputs": [],
   "source": [
    "training_set = list()\n",
    "test_set = list()"
   ]
  },
  {
   "cell_type": "code",
   "execution_count": 53,
   "metadata": {
    "collapsed": false
   },
   "outputs": [
    {
     "name": "stdout",
     "output_type": "stream",
     "text": [
      "('so1', 'E', 'Lagorai')\n",
      "('so1', 'E', 'Vajolet')\n",
      "('so1', 'G', 'Lagorai')\n",
      "('so1', 'G', 'Vajolet')\n",
      "('so1', 'L', 'Lagorai')\n",
      "('so1', 'L', 'Vajolet')\n",
      "('so2', 'E', 'B', 'Lagorai')\n",
      "('so2', 'E', 'B', 'Vajolet')\n",
      "('so2', 'E', 'G', 'Lagorai')\n",
      "('so2', 'E', 'G', 'Vajolet')\n",
      "('so2', 'E', 'GB', 'Lagorai')\n",
      "('so2', 'E', 'GB', 'Vajolet')\n",
      "('so2', 'E', 'S', 'Lagorai')\n",
      "('so2', 'E', 'S', 'Vajolet')\n",
      "('so2', 'G', 'B', 'Lagorai')\n",
      "('so2', 'G', 'B', 'Vajolet')\n",
      "('so2', 'G', 'G', 'Lagorai')\n",
      "('so2', 'G', 'G', 'Vajolet')\n",
      "('so2', 'G', 'GB', 'Lagorai')\n",
      "('so2', 'G', 'GB', 'Vajolet')\n",
      "('so2', 'G', 'S', 'Lagorai')\n",
      "('so2', 'G', 'S', 'Vajolet')\n",
      "('so2', 'L', 'B', 'Lagorai')\n",
      "('so2', 'L', 'B', 'Vajolet')\n",
      "('so2', 'L', 'G', 'Lagorai')\n",
      "('so2', 'L', 'G', 'Vajolet')\n",
      "('so2', 'L', 'GB', 'Lagorai')\n",
      "('so2', 'L', 'GB', 'Vajolet')\n",
      "('so2', 'L', 'S', 'Lagorai')\n",
      "('so2', 'L', 'S', 'Vajolet')\n",
      "('so3', 'E', 'B')\n",
      "('so3', 'E', 'S')\n",
      "('so3', 'G', 'B')\n",
      "('so3', 'G', 'S')\n",
      "('so3', 'L', 'B')\n",
      "('so3', 'L', 'S')\n"
     ]
    }
   ],
   "source": [
    "for weak_label in sorted(target_datasets):\n",
    "    print(weak_label)"
   ]
  },
  {
   "cell_type": "code",
   "execution_count": 54,
   "metadata": {
    "collapsed": false
   },
   "outputs": [
    {
     "name": "stdout",
     "output_type": "stream",
     "text": [
      "WEAK LABEL:  ('so1', 'E', 'Lagorai')\n",
      "WEAK LABEL:  ('so1', 'E', 'Vajolet')\n",
      "WEAK LABEL:  ('so1', 'G', 'Lagorai')\n",
      "WEAK LABEL:  ('so1', 'G', 'Vajolet')\n",
      "WEAK LABEL:  ('so1', 'L', 'Lagorai')\n",
      "WEAK LABEL:  ('so1', 'L', 'Vajolet')\n",
      "WEAK LABEL:  ('so2', 'E', 'B', 'Lagorai')\n",
      "WEAK LABEL:  ('so2', 'E', 'B', 'Vajolet')\n",
      "WEAK LABEL:  ('so2', 'E', 'G', 'Lagorai')\n",
      "WEAK LABEL:  ('so2', 'E', 'G', 'Vajolet')\n",
      "WEAK LABEL:  ('so2', 'E', 'GB', 'Lagorai')\n",
      "WEAK LABEL:  ('so2', 'E', 'GB', 'Vajolet')\n",
      "WEAK LABEL:  ('so2', 'E', 'S', 'Lagorai')\n",
      "WEAK LABEL:  ('so2', 'E', 'S', 'Vajolet')\n",
      "WEAK LABEL:  ('so2', 'G', 'B', 'Lagorai')\n",
      "WEAK LABEL:  ('so2', 'G', 'B', 'Vajolet')\n",
      "WEAK LABEL:  ('so2', 'G', 'G', 'Lagorai')\n",
      "WEAK LABEL:  ('so2', 'G', 'G', 'Vajolet')\n",
      "WEAK LABEL:  ('so2', 'G', 'GB', 'Lagorai')\n",
      "WEAK LABEL:  ('so2', 'G', 'GB', 'Vajolet')\n",
      "WEAK LABEL:  ('so2', 'G', 'S', 'Lagorai')\n",
      "WEAK LABEL:  ('so2', 'G', 'S', 'Vajolet')\n",
      "WEAK LABEL:  ('so2', 'L', 'B', 'Lagorai')\n",
      "WEAK LABEL:  ('so2', 'L', 'B', 'Vajolet')\n",
      "WEAK LABEL:  ('so2', 'L', 'G', 'Lagorai')\n",
      "WEAK LABEL:  ('so2', 'L', 'G', 'Vajolet')\n",
      "WEAK LABEL:  ('so2', 'L', 'GB', 'Lagorai')\n",
      "WEAK LABEL:  ('so2', 'L', 'GB', 'Vajolet')\n",
      "WEAK LABEL:  ('so2', 'L', 'S', 'Lagorai')\n",
      "WEAK LABEL:  ('so2', 'L', 'S', 'Vajolet')\n",
      "WEAK LABEL:  ('so3', 'E', 'B')\n",
      "WEAK LABEL:  ('so3', 'E', 'S')\n",
      "WEAK LABEL:  ('so3', 'G', 'B')\n",
      "WEAK LABEL:  ('so3', 'G', 'S')\n",
      "WEAK LABEL:  ('so3', 'L', 'B')\n",
      "WEAK LABEL:  ('so3', 'L', 'S')\n"
     ]
    }
   ],
   "source": [
    "CLASS_NUMBER_ENCODING = {'E': 0, 'G': 1, 'L': 2}\n",
    "seed()  # initialise SEED\n",
    "for weak_label in sorted(target_datasets):\n",
    "    files = group_maps[weak_label]['files'].values.tolist()\n",
    "    train_count = (len(files)*2)//3\n",
    "    test_count = len(files) - train_count\n",
    "    \n",
    "    print('WEAK LABEL: ', weak_label)\n",
    "    \n",
    "    _, class_label, *rest = weak_label\n",
    "    class_enc = CLASS_NUMBER_ENCODING[class_label]\n",
    "    \n",
    "    train_samples = sample(files, train_count)\n",
    "    test_samples = [file for file in files if not file in train_samples]\n",
    "    \n",
    "    training_set.extend([(class_enc, s) for s in train_samples])\n",
    "    test_set.extend([(class_enc, s) for s in test_samples])\n",
    "    "
   ]
  },
  {
   "cell_type": "code",
   "execution_count": 55,
   "metadata": {
    "collapsed": false
   },
   "outputs": [
    {
     "data": {
      "text/plain": [
       "1084"
      ]
     },
     "execution_count": 55,
     "metadata": {},
     "output_type": "execute_result"
    }
   ],
   "source": [
    "len(training_set)"
   ]
  },
  {
   "cell_type": "code",
   "execution_count": 56,
   "metadata": {
    "collapsed": false
   },
   "outputs": [
    {
     "data": {
      "text/plain": [
       "563"
      ]
     },
     "execution_count": 56,
     "metadata": {},
     "output_type": "execute_result"
    }
   ],
   "source": [
    "len(test_set)"
   ]
  },
  {
   "cell_type": "code",
   "execution_count": 59,
   "metadata": {
    "collapsed": false
   },
   "outputs": [],
   "source": [
    "with open(TRAINING_REPORT_FILE_SO123, 'w') as train_hard_label:\n",
    "    for label, sample in training_set:\n",
    "        train_hard_label.write('{}\\t{}\\n'.format(sample, label))"
   ]
  },
  {
   "cell_type": "code",
   "execution_count": 60,
   "metadata": {
    "collapsed": true
   },
   "outputs": [],
   "source": [
    "with open(TEST_REPORT_FILE_SO123, 'w') as test_hard_label:\n",
    "    for label, sample in test_set:\n",
    "        test_hard_label.write('{}\\t{}\\n'.format(sample, label))"
   ]
  },
  {
   "cell_type": "code",
   "execution_count": null,
   "metadata": {
    "collapsed": true
   },
   "outputs": [],
   "source": []
  }
 ],
 "metadata": {
  "kernelspec": {
   "display_name": "Python 3",
   "language": "python",
   "name": "python3"
  },
  "language_info": {
   "codemirror_mode": {
    "name": "ipython",
    "version": 3
   },
   "file_extension": ".py",
   "mimetype": "text/x-python",
   "name": "python",
   "nbconvert_exporter": "python",
   "pygments_lexer": "ipython3",
   "version": "3.5.2"
  }
 },
 "nbformat": 4,
 "nbformat_minor": 0
}
